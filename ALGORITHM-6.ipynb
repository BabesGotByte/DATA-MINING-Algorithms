{
  "nbformat": 4,
  "nbformat_minor": 0,
  "metadata": {
    "colab": {
      "name": "DM_ASSIGN_6.ipynb",
      "provenance": []
    },
    "kernelspec": {
      "name": "python3",
      "display_name": "Python 3"
    }
  },
  "cells": [
    {
      "cell_type": "markdown",
      "metadata": {
        "id": "nMh4rSsUPReN",
        "colab_type": "text"
      },
      "source": [
        "**QUESTION 1**"
      ]
    },
    {
      "cell_type": "code",
      "metadata": {
        "id": "DN1mOSGRPL5H",
        "colab_type": "code",
        "outputId": "13e1c33c-3dee-409f-80fa-94e5009e2e5a",
        "colab": {
          "base_uri": "https://localhost:8080/",
          "height": 235
        }
      },
      "source": [
        "import numpy \n",
        "import pandas\n",
        "data_list = pandas.read_excel(\"DATASET.xlsx\", header=0)\n",
        "data_list = data_list.drop('Example',axis=1)\n",
        "print (data_list)"
      ],
      "execution_count": 0,
      "outputs": [
        {
          "output_type": "stream",
          "text": [
            "   ALT Bar Fri Hun   Pat Price Rain Res     Type        Est Target Wait\n",
            "0    T   F   F   T  Some   $$$    F   T   French    0 to 10           T\n",
            "1    T   F   F   T  Full     $    F   F     Thai   30 to 60           F\n",
            "2    F   T   F   F  Some     $    F   F   Burger    0 to 10           T\n",
            "3    T   F   T   T  Full     $    F   F     Thai  10 to  30           T\n",
            "4    T   F   T   F  Full   $$$    F   T   French       > 60           F\n",
            "5    F   T   F   T  Some    $$    T   T  Italian    0 to 10           T\n",
            "6    F   T   F   F  None     $    T   F   Burger    0 to 10           F\n",
            "7    F   F   F   T  Some    $$    T   T     Thai    0 to 10           T\n",
            "8    F   T   T   F  Full     $    T   F   Burger        >60           F\n",
            "9    T   T   T   T  Full   $$$    F   T  Italian   10 to 30           F\n",
            "10   F   F   F   F  None     $    F   F     Thai    0 to 10           F\n",
            "11   T   T   T   T  Full     $    F   F   Burger  30 to 60            T\n"
          ],
          "name": "stdout"
        }
      ]
    },
    {
      "cell_type": "code",
      "metadata": {
        "id": "k02L0KzL3Nd6",
        "colab_type": "code",
        "outputId": "86783f2f-4e84-4a45-f820-9256ed77b420",
        "colab": {
          "base_uri": "https://localhost:8080/",
          "height": 202
        }
      },
      "source": [
        "names = []\n",
        "for h in list(data_list) :\n",
        "    l = list(set( data_list[h] ))\n",
        "    names.append(l)\n",
        "names"
      ],
      "execution_count": 0,
      "outputs": [
        {
          "output_type": "execute_result",
          "data": {
            "text/plain": [
              "[['F', 'T'],\n",
              " ['F', 'T'],\n",
              " ['F', 'T'],\n",
              " ['F', 'T'],\n",
              " ['Some', 'Full', 'None'],\n",
              " ['$$', '$$$', '$'],\n",
              " ['F', 'T'],\n",
              " ['F', 'T'],\n",
              " ['Burger', 'Thai', 'French', 'Italian'],\n",
              " ['30 to 60 ', '10 to 30', '10 to  30', '0 to 10', '>60', '> 60', '30 to 60'],\n",
              " ['F', 'T']]"
            ]
          },
          "metadata": {
            "tags": []
          },
          "execution_count": 33
        }
      ]
    },
    {
      "cell_type": "code",
      "metadata": {
        "id": "nyAvV2jM5pz1",
        "colab_type": "code",
        "colab": {}
      },
      "source": [
        "length = len(list(data_list))\n",
        "a = []\n",
        "for i in range(0, length-1) :\n",
        "    if(list(data_list)[i] == list(data_list)[-2]) :\n",
        "        frame = pandas.pivot_table(data_list, index = data_list[list(data_list)[i]], columns = [headings[-1]], values = [list(data_list)[1]], aggfunc = 'count')\n",
        "        frame = frame[list(data_list)[1]]\n",
        "    else :\n",
        "        frame = pandas.pivot_table(data_list, index = data_list[list(data_list)[i]], columns = [headings[-1]], values = [list(data_list)[i+1]], aggfunc = 'count')\n",
        "        frame = frame[list(data_list)[i+1]]\n",
        "    a.append(frame)\n",
        "\n",
        "    a[-1] = a[-1].fillna(0)\n",
        "    a[-1]['total'] = a[-1][atributes[-1][0]] + a[-1][atributes[-1][1]]       "
      ],
      "execution_count": 0,
      "outputs": []
    },
    {
      "cell_type": "code",
      "metadata": {
        "id": "TUA26uZf4JxT",
        "colab_type": "code",
        "outputId": "98824e8f-890c-494e-892d-b0d3bffda363",
        "colab": {
          "base_uri": "https://localhost:8080/",
          "height": 689
        }
      },
      "source": [
        "a"
      ],
      "execution_count": 0,
      "outputs": [
        {
          "output_type": "execute_result",
          "data": {
            "text/plain": [
              "[Target Wait  F  T  total\n",
              " ALT                     \n",
              " F            3  3      6\n",
              " T            3  3      6, Target Wait  F  T  total\n",
              " Bar                     \n",
              " F            3  3      6\n",
              " T            3  3      6, Target Wait  F  T  total\n",
              " Fri                     \n",
              " F            3  4      7\n",
              " T            3  2      5, Target Wait  F  T  total\n",
              " Hun                     \n",
              " F            4  1      5\n",
              " T            2  5      7, Target Wait    F    T  total\n",
              " Pat                         \n",
              " Full         4.0  2.0    6.0\n",
              " None         2.0  0.0    2.0\n",
              " Some         0.0  4.0    4.0, Target Wait    F    T  total\n",
              " Price                       \n",
              " $            4.0  3.0    7.0\n",
              " $$           0.0  2.0    2.0\n",
              " $$$          2.0  1.0    3.0, Target Wait  F  T  total\n",
              " Rain                    \n",
              " F            4  4      8\n",
              " T            2  2      4, Target Wait  F  T  total\n",
              " Res                     \n",
              " F            4  3      7\n",
              " T            2  3      5, Target Wait  F  T  total\n",
              " Type                    \n",
              " Burger       2  2      4\n",
              " French       1  1      2\n",
              " Italian      1  1      2\n",
              " Thai         2  2      4, Target Wait    F    T  total\n",
              " Est                         \n",
              " 0 to 10      2.0  4.0    6.0\n",
              " 10 to  30    0.0  1.0    1.0\n",
              " 10 to 30     1.0  0.0    1.0\n",
              " 30 to 60     1.0  0.0    1.0\n",
              " 30 to 60     0.0  1.0    1.0\n",
              " > 60         1.0  0.0    1.0\n",
              " >60          1.0  0.0    1.0]"
            ]
          },
          "metadata": {
            "tags": []
          },
          "execution_count": 35
        }
      ]
    },
    {
      "cell_type": "code",
      "metadata": {
        "id": "3dXlZu_74NZx",
        "colab_type": "code",
        "colab": {}
      },
      "source": [
        "def false(input_list):\n",
        "    answer1 = len([i for i in data_list[list(data_list)[-1]] if i=='F']) / float(length)\n",
        "    for i in range(0, len(list(data_list))-1):\n",
        "        answer1 = answer1*(a[i]['F'][input_list[i]]/float(a[i]['total'][input_list[i]]))\n",
        "    return answer1"
      ],
      "execution_count": 0,
      "outputs": []
    },
    {
      "cell_type": "code",
      "metadata": {
        "id": "qSmxX5Y5Pjls",
        "colab_type": "code",
        "colab": {}
      },
      "source": [
        "def true(input_list):\n",
        "    answer2 = len([i for i in data_list[list(data_list)[-1]] if i=='T']) / float(length)\n",
        "    for i in range(0, len(list(data_list))-1):\n",
        "        answer2 = answer2*(a[i]['T'][input_list[i]]/float(a[i]['total'][input_list[i]]))\n",
        "    return answer2"
      ],
      "execution_count": 0,
      "outputs": []
    },
    {
      "cell_type": "code",
      "metadata": {
        "id": "JNwlCvGcPnkH",
        "colab_type": "code",
        "outputId": "d1c9a7e9-1a35-49fd-9c88-8150f7a0fb3f",
        "colab": {
          "base_uri": "https://localhost:8080/",
          "height": 218
        }
      },
      "source": [
        "input_list = []\n",
        "for i in range(0 , len(list(data_list))-1):\n",
        "    input_list.append(input(\"Enter {} as {}\" .format(list(data_list)[i],atributes[i])))\n",
        "\n",
        "ans = true(input_list)    \n",
        "print (\"Prob of being True is-> {}\" .format(ans))\n",
        "print (\"Prob of being False is-> {}\" .format(false(input_list)))"
      ],
      "execution_count": 0,
      "outputs": [
        {
          "output_type": "stream",
          "text": [
            "Enter ALT as ['F', 'T']T\n",
            "Enter Bar as ['F', 'T']T\n",
            "Enter Fri as ['F', 'T']T\n",
            "Enter Hun as ['F', 'T']T\n",
            "Enter Pat as ['Some', 'Full', 'None']Full\n",
            "Enter Price as ['$$', '$$$', '$']$\n",
            "Enter Rain as ['F', 'T']F\n",
            "Enter Res as ['F', 'T']F\n",
            "Enter Type as ['Burger', 'Thai', 'French', 'Italian']Burger\n",
            "Enter Est as ['30 to 60 ', '10 to 30', '10 to  30', '0 to 10', '>60', '> 60', '30 to 60']30 to 60\n",
            "Prob of being True is-> 0.0\n",
            "Prob of being False is-> 0.001272197190564537\n"
          ],
          "name": "stdout"
        }
      ]
    },
    {
      "cell_type": "markdown",
      "metadata": {
        "id": "R35zk-Q_Prbw",
        "colab_type": "text"
      },
      "source": [
        "**QUESTION 2**"
      ]
    },
    {
      "cell_type": "code",
      "metadata": {
        "id": "aOX5ECwf7CYz",
        "colab_type": "code",
        "outputId": "bc5b2956-9382-4ba9-cdc5-58b81dea1065",
        "colab": {
          "base_uri": "https://localhost:8080/",
          "height": 269
        }
      },
      "source": [
        "import numpy \n",
        "import pandas\n",
        "\n",
        "data_list = pandas.read_excel(\"data_sheet.xlsx\", header=0)\n",
        "data_list = data_list.drop('RID',axis=1)\n",
        "print (data_list)"
      ],
      "execution_count": 0,
      "outputs": [
        {
          "output_type": "stream",
          "text": [
            "         Age  Income Student Credit_rating Class : buys_computer\n",
            "0       <=30    High      No          Fair                    No\n",
            "1       <=30    High      No     Excellent                    No\n",
            "2   31 ...40    High      No          Fair                   Yes\n",
            "3        >40  Medium      No          Fair                   Yes\n",
            "4        >40     Low     Yes          Fair                   Yes\n",
            "5        >40     Low     Yes     Excellent                    No\n",
            "6    31 ..40     Low     Yes     Excellent                   Yes\n",
            "7       <=30  Medium      No          Fair                    No\n",
            "8       <=30     Low     Yes          Fair                   Yes\n",
            "9        >40  Medium     Yes          Fair                   Yes\n",
            "10      <=30  Medium     Yes     Excellent                   Yes\n",
            "11   31 ..40  Medium      No     Excellent                   Yes\n",
            "12   31 ..40    High     Yes          Fair                   Yes\n",
            "13       >40  Medium      No     Excellent                    No\n"
          ],
          "name": "stdout"
        }
      ]
    },
    {
      "cell_type": "code",
      "metadata": {
        "id": "Tp9wLS2q9XzT",
        "colab_type": "code",
        "outputId": "63732a06-03cf-4099-be72-b54052b22d71",
        "colab": {
          "base_uri": "https://localhost:8080/",
          "height": 101
        }
      },
      "source": [
        "headers=list(data_list)\n",
        "name2 = []\n",
        "for i in list(data_list):\n",
        "    name2.append(list(set(data_list[i])))\n",
        "name2"
      ],
      "execution_count": 0,
      "outputs": [
        {
          "output_type": "execute_result",
          "data": {
            "text/plain": [
              "[['31 ..40', '<=30', '>40', '31 ...40'],\n",
              " ['Low', 'Medium', 'High'],\n",
              " ['Yes', 'No'],\n",
              " ['Fair', 'Excellent'],\n",
              " ['Yes', 'No']]"
            ]
          },
          "metadata": {
            "tags": []
          },
          "execution_count": 66
        }
      ]
    },
    {
      "cell_type": "code",
      "metadata": {
        "id": "EPnpSBpJAt6X",
        "colab_type": "code",
        "colab": {}
      },
      "source": [
        "def classify(atribute,value):\n",
        "    return pandas.pivot_table(data_list,index=data_list[atribute],columns=[headers[-1]],values=[value],aggfunc='count')"
      ],
      "execution_count": 0,
      "outputs": []
    },
    {
      "cell_type": "code",
      "metadata": {
        "id": "DdYsvaRwQ7lo",
        "colab_type": "code",
        "outputId": "0724d962-da12-4648-c556-df84c57f0484",
        "colab": {
          "base_uri": "https://localhost:8080/",
          "height": 286
        }
      },
      "source": [
        "a2 = []\n",
        "for i in range(0,len(list(data_list))-1):\n",
        "    if(list(data_list)[i] == list(data_list)[-2]):\n",
        "        frame2 = pandas.pivot_table(data_list,index=data_list[list(data_list)[i]],columns=[headers[-1]],values=[list(data_list)[1]],aggfunc='count')\n",
        "        frame2 = frame2[list(data_list)[1]]\n",
        "    else:\n",
        "        frame2 = pandas.pivot_table(data_list,index=data_list[list(data_list)[i]],columns=[headers[-1]],values=[list(data_list)[i+1]],aggfunc='count')\n",
        "        frame2 = frame2[list(data_list)[i+1]]\n",
        "    a2.append(frame2)\n",
        "    a2[-1]=a2[-1].fillna(0)\n",
        "    a2[-1]['total'] = a2[-1][atribute_value[-1][0]]+a2[-1][atribute_value[-1][1]]\n",
        "        \n",
        "a2"
      ],
      "execution_count": 79,
      "outputs": [
        {
          "output_type": "execute_result",
          "data": {
            "text/plain": [
              "[Class : buys_computer   No  Yes  total\n",
              " Age                                   \n",
              " 31 ...40               0.0  1.0    1.0\n",
              " 31 ..40                0.0  3.0    3.0\n",
              " <=30                   3.0  2.0    5.0\n",
              " >40                    2.0  3.0    5.0, Class : buys_computer  No  Yes  total\n",
              " Income                               \n",
              " High                    2    2      4\n",
              " Low                     1    3      4\n",
              " Medium                  2    4      6, Class : buys_computer  No  Yes  total\n",
              " Student                              \n",
              " No                      4    3      7\n",
              " Yes                     1    6      7, Class : buys_computer  No  Yes  total\n",
              " Credit_rating                        \n",
              " Excellent               3    3      6\n",
              " Fair                    2    6      8]"
            ]
          },
          "metadata": {
            "tags": []
          },
          "execution_count": 79
        }
      ]
    },
    {
      "cell_type": "code",
      "metadata": {
        "id": "aP9bZiPfQ-py",
        "colab_type": "code",
        "colab": {}
      },
      "source": [
        "def yes(input_list):\n",
        "    ans = len([i for i in data_list[list(data_list)[-1]] if i=='Yes'])/float(len(data_list))\n",
        "    for i in range(0, len(list(data_list))-1):\n",
        "        ans=ans*(a2[i]['Yes'][input_list[i]]/float(a2[i]['total'][input_list[i]]))\n",
        "    return ans"
      ],
      "execution_count": 0,
      "outputs": []
    },
    {
      "cell_type": "code",
      "metadata": {
        "id": "_bPhTwLqRBas",
        "colab_type": "code",
        "colab": {}
      },
      "source": [
        "def no(input_list):\n",
        "    ans = len([i for i in data_list[list(data_list)[-1]] if i=='No'])/float(len(data_list))\n",
        "    for i in range(0, len(list(data_list))-1):\n",
        "        ans=ans*(a2[i]['No'][input_list[i]]/float(a2[i]['total'][input_list[i]]))\n",
        "    return ans"
      ],
      "execution_count": 0,
      "outputs": []
    },
    {
      "cell_type": "code",
      "metadata": {
        "id": "RaCGcDb_RC6f",
        "colab_type": "code",
        "outputId": "8dec6a89-7e37-419e-957c-d6a2d43c2faa",
        "colab": {
          "base_uri": "https://localhost:8080/",
          "height": 118
        }
      },
      "source": [
        "input_list = []\n",
        "for i in range(0, len(list(data_list))-1):\n",
        "    input_list.append(input(\"Enter {} as {}\" .format(list(data_list)[i],atribute_value[i])))\n",
        "y = yes(input_list)    \n",
        "n = no(input_list)\n",
        "print (\"probability for classified to be Yes is {}\" .format(y))\n",
        "print (\"probability for classified to be No is {}\" .format(n))"
      ],
      "execution_count": 86,
      "outputs": [
        {
          "output_type": "stream",
          "text": [
            "Enter Age as ['31 ..40', '<=30', '>40', '31 ...40']<=30\n",
            "Enter Income as ['Low', 'Medium', 'High']Medium\n",
            "Enter Student as ['Yes', 'No']No\n",
            "Enter Credit_rating as ['Fair', 'Excellent']Fair\n",
            "probability for classified to be Yes is 0.055102040816326525\n",
            "probability for classified to be No is 0.01020408163265306\n"
          ],
          "name": "stdout"
        }
      ]
    }
  ]
}