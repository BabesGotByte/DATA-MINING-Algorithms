{
  "nbformat": 4,
  "nbformat_minor": 0,
  "metadata": {
    "colab": {
      "name": "ALGORITHM-14.ipynb",
      "provenance": [],
      "collapsed_sections": [],
      "toc_visible": true
    },
    "kernelspec": {
      "display_name": "Python 3",
      "language": "python",
      "name": "python3"
    },
    "language_info": {
      "codemirror_mode": {
        "name": "ipython",
        "version": 3
      },
      "file_extension": ".py",
      "mimetype": "text/x-python",
      "name": "python",
      "nbconvert_exporter": "python",
      "pygments_lexer": "ipython3",
      "version": "3.7.6"
    }
  },
  "cells": [
    {
      "cell_type": "code",
      "metadata": {
        "id": "FLl6rBHg9MH_"
      },
      "source": [
        "from heapq import heapify, heappop, heappush, heappushpop\n",
        "from sklearn.utils import check_array\n",
        "from sklearn.utils.validation import check_memory\n",
        "from sklearn.cluster import _hierarchical_fast as _hierarchical\n",
        "import pandas as pd\n",
        "import matplotlib.pyplot as plt\n",
        "import numpy as np\n",
        "import scipy.cluster.hierarchy as sch\n",
        "from sklearn.metrics.pairwise import euclidean_distances\n",
        "from sklearn.cluster import Birch\n",
        "import numpy as np\n",
        "from scipy import sparse\n",
        "from sklearn.cluster import AgglomerativeClustering, Birch\n",
        "from sklearn.utils.extmath import row_norms, safe_sparse_dot\n",
        "from sklearn.utils.validation import check_is_fitted"
      ],
      "execution_count": null,
      "outputs": []
    },
    {
      "cell_type": "markdown",
      "metadata": {
        "id": "e3Xb5JY46lPp"
      },
      "source": [
        "## Data"
      ]
    },
    {
      "cell_type": "code",
      "metadata": {
        "id": "M0YWpRL2Ax05",
        "outputId": "8ad92cc7-f3da-4ddb-9a96-e25de78e00a6",
        "colab": {
          "base_uri": "https://localhost:8080/",
          "height": 198
        }
      },
      "source": [
        "data = pd.read_csv('q1a.csv')\n",
        "data.head()"
      ],
      "execution_count": null,
      "outputs": [
        {
          "output_type": "execute_result",
          "data": {
            "text/html": [
              "<div>\n",
              "<style scoped>\n",
              "    .dataframe tbody tr th:only-of-type {\n",
              "        vertical-align: middle;\n",
              "    }\n",
              "\n",
              "    .dataframe tbody tr th {\n",
              "        vertical-align: top;\n",
              "    }\n",
              "\n",
              "    .dataframe thead th {\n",
              "        text-align: right;\n",
              "    }\n",
              "</style>\n",
              "<table border=\"1\" class=\"dataframe\">\n",
              "  <thead>\n",
              "    <tr style=\"text-align: right;\">\n",
              "      <th></th>\n",
              "      <th>A</th>\n",
              "      <th>B</th>\n",
              "      <th>C</th>\n",
              "      <th>D</th>\n",
              "      <th>E</th>\n",
              "      <th>F</th>\n",
              "    </tr>\n",
              "  </thead>\n",
              "  <tbody>\n",
              "    <tr>\n",
              "      <th>0</th>\n",
              "      <td>0.00</td>\n",
              "      <td>0.71</td>\n",
              "      <td>5.66</td>\n",
              "      <td>3.61</td>\n",
              "      <td>4.24</td>\n",
              "      <td>3.20</td>\n",
              "    </tr>\n",
              "    <tr>\n",
              "      <th>1</th>\n",
              "      <td>0.71</td>\n",
              "      <td>0.00</td>\n",
              "      <td>4.95</td>\n",
              "      <td>2.92</td>\n",
              "      <td>3.54</td>\n",
              "      <td>2.50</td>\n",
              "    </tr>\n",
              "    <tr>\n",
              "      <th>2</th>\n",
              "      <td>5.66</td>\n",
              "      <td>4.95</td>\n",
              "      <td>0.00</td>\n",
              "      <td>2.24</td>\n",
              "      <td>1.41</td>\n",
              "      <td>2.50</td>\n",
              "    </tr>\n",
              "    <tr>\n",
              "      <th>3</th>\n",
              "      <td>3.61</td>\n",
              "      <td>2.92</td>\n",
              "      <td>2.24</td>\n",
              "      <td>0.00</td>\n",
              "      <td>1.00</td>\n",
              "      <td>0.50</td>\n",
              "    </tr>\n",
              "    <tr>\n",
              "      <th>4</th>\n",
              "      <td>4.24</td>\n",
              "      <td>3.54</td>\n",
              "      <td>1.41</td>\n",
              "      <td>1.00</td>\n",
              "      <td>0.00</td>\n",
              "      <td>1.12</td>\n",
              "    </tr>\n",
              "  </tbody>\n",
              "</table>\n",
              "</div>"
            ],
            "text/plain": [
              "      A     B     C     D     E     F\n",
              "0  0.00  0.71  5.66  3.61  4.24  3.20\n",
              "1  0.71  0.00  4.95  2.92  3.54  2.50\n",
              "2  5.66  4.95  0.00  2.24  1.41  2.50\n",
              "3  3.61  2.92  2.24  0.00  1.00  0.50\n",
              "4  4.24  3.54  1.41  1.00  0.00  1.12"
            ]
          },
          "metadata": {
            "tags": []
          },
          "execution_count": 6
        }
      ]
    },
    {
      "cell_type": "code",
      "metadata": {
        "id": "FoDmQoKY7Ha2",
        "outputId": "c4f28d23-c8d8-4a4f-dca5-9cc5376e8556",
        "colab": {
          "base_uri": "https://localhost:8080/",
          "height": 218
        }
      },
      "source": [
        "data_2 = pd.read_excel('matrix.xlsx', header=None)\n",
        "data_2.head()"
      ],
      "execution_count": null,
      "outputs": [
        {
          "output_type": "execute_result",
          "data": {
            "text/html": [
              "<div>\n",
              "<style scoped>\n",
              "    .dataframe tbody tr th:only-of-type {\n",
              "        vertical-align: middle;\n",
              "    }\n",
              "\n",
              "    .dataframe tbody tr th {\n",
              "        vertical-align: top;\n",
              "    }\n",
              "\n",
              "    .dataframe thead th {\n",
              "        text-align: right;\n",
              "    }\n",
              "</style>\n",
              "<table border=\"1\" class=\"dataframe\">\n",
              "  <thead>\n",
              "    <tr style=\"text-align: right;\">\n",
              "      <th></th>\n",
              "      <th>0</th>\n",
              "      <th>1</th>\n",
              "      <th>2</th>\n",
              "      <th>3</th>\n",
              "      <th>4</th>\n",
              "      <th>5</th>\n",
              "      <th>6</th>\n",
              "      <th>7</th>\n",
              "      <th>8</th>\n",
              "      <th>9</th>\n",
              "      <th>10</th>\n",
              "      <th>11</th>\n",
              "      <th>12</th>\n",
              "      <th>13</th>\n",
              "      <th>14</th>\n",
              "      <th>15</th>\n",
              "      <th>16</th>\n",
              "      <th>17</th>\n",
              "      <th>18</th>\n",
              "      <th>19</th>\n",
              "      <th>20</th>\n",
              "      <th>21</th>\n",
              "      <th>22</th>\n",
              "      <th>23</th>\n",
              "      <th>24</th>\n",
              "      <th>25</th>\n",
              "      <th>26</th>\n",
              "      <th>27</th>\n",
              "      <th>28</th>\n",
              "      <th>29</th>\n",
              "    </tr>\n",
              "  </thead>\n",
              "  <tbody>\n",
              "    <tr>\n",
              "      <th>0</th>\n",
              "      <td>0.154530</td>\n",
              "      <td>0.067232</td>\n",
              "      <td>0.114163</td>\n",
              "      <td>0.119520</td>\n",
              "      <td>0.352498</td>\n",
              "      <td>0.002196</td>\n",
              "      <td>0.463378</td>\n",
              "      <td>0.456631</td>\n",
              "      <td>0.422190</td>\n",
              "      <td>0.230062</td>\n",
              "      <td>0.001864</td>\n",
              "      <td>0.214656</td>\n",
              "      <td>0.091797</td>\n",
              "      <td>0.412021</td>\n",
              "      <td>0.367051</td>\n",
              "      <td>0.436423</td>\n",
              "      <td>0.035959</td>\n",
              "      <td>0.024758</td>\n",
              "      <td>0.035581</td>\n",
              "      <td>0.113957</td>\n",
              "      <td>0.097003</td>\n",
              "      <td>0.089424</td>\n",
              "      <td>0.720883</td>\n",
              "      <td>0.393053</td>\n",
              "      <td>0.285390</td>\n",
              "      <td>0.744426</td>\n",
              "      <td>0.081614</td>\n",
              "      <td>0.021957</td>\n",
              "      <td>0.075406</td>\n",
              "      <td>0.025881</td>\n",
              "    </tr>\n",
              "    <tr>\n",
              "      <th>1</th>\n",
              "      <td>0.067232</td>\n",
              "      <td>0.210769</td>\n",
              "      <td>0.230892</td>\n",
              "      <td>0.241605</td>\n",
              "      <td>0.048367</td>\n",
              "      <td>0.192809</td>\n",
              "      <td>0.371816</td>\n",
              "      <td>0.136878</td>\n",
              "      <td>0.652689</td>\n",
              "      <td>0.128090</td>\n",
              "      <td>0.255947</td>\n",
              "      <td>0.044213</td>\n",
              "      <td>0.737641</td>\n",
              "      <td>0.243757</td>\n",
              "      <td>0.048467</td>\n",
              "      <td>0.182598</td>\n",
              "      <td>0.001851</td>\n",
              "      <td>0.501345</td>\n",
              "      <td>0.064597</td>\n",
              "      <td>0.216244</td>\n",
              "      <td>0.354133</td>\n",
              "      <td>0.302550</td>\n",
              "      <td>0.295841</td>\n",
              "      <td>0.202220</td>\n",
              "      <td>0.029919</td>\n",
              "      <td>0.238655</td>\n",
              "      <td>0.087508</td>\n",
              "      <td>0.312674</td>\n",
              "      <td>0.362604</td>\n",
              "      <td>0.076289</td>\n",
              "    </tr>\n",
              "    <tr>\n",
              "      <th>2</th>\n",
              "      <td>0.114163</td>\n",
              "      <td>0.230892</td>\n",
              "      <td>0.766893</td>\n",
              "      <td>0.017749</td>\n",
              "      <td>0.131733</td>\n",
              "      <td>0.049124</td>\n",
              "      <td>0.174170</td>\n",
              "      <td>0.394250</td>\n",
              "      <td>0.126765</td>\n",
              "      <td>0.121102</td>\n",
              "      <td>0.105133</td>\n",
              "      <td>0.002578</td>\n",
              "      <td>0.378258</td>\n",
              "      <td>0.422101</td>\n",
              "      <td>0.123942</td>\n",
              "      <td>0.255028</td>\n",
              "      <td>0.090608</td>\n",
              "      <td>0.052193</td>\n",
              "      <td>0.007113</td>\n",
              "      <td>0.031958</td>\n",
              "      <td>0.146560</td>\n",
              "      <td>0.155150</td>\n",
              "      <td>0.081890</td>\n",
              "      <td>0.140633</td>\n",
              "      <td>0.196814</td>\n",
              "      <td>0.015781</td>\n",
              "      <td>0.291977</td>\n",
              "      <td>0.677837</td>\n",
              "      <td>0.194241</td>\n",
              "      <td>0.967901</td>\n",
              "    </tr>\n",
              "    <tr>\n",
              "      <th>3</th>\n",
              "      <td>0.119520</td>\n",
              "      <td>0.241605</td>\n",
              "      <td>0.017749</td>\n",
              "      <td>0.057910</td>\n",
              "      <td>0.007232</td>\n",
              "      <td>0.018638</td>\n",
              "      <td>0.019790</td>\n",
              "      <td>0.041866</td>\n",
              "      <td>0.052705</td>\n",
              "      <td>0.162619</td>\n",
              "      <td>0.482486</td>\n",
              "      <td>0.089332</td>\n",
              "      <td>0.293531</td>\n",
              "      <td>0.629935</td>\n",
              "      <td>0.300723</td>\n",
              "      <td>0.010842</td>\n",
              "      <td>0.328028</td>\n",
              "      <td>0.377447</td>\n",
              "      <td>0.568194</td>\n",
              "      <td>0.012107</td>\n",
              "      <td>0.487177</td>\n",
              "      <td>0.326593</td>\n",
              "      <td>0.025012</td>\n",
              "      <td>0.206512</td>\n",
              "      <td>0.121218</td>\n",
              "      <td>0.474819</td>\n",
              "      <td>0.620548</td>\n",
              "      <td>0.101567</td>\n",
              "      <td>0.249203</td>\n",
              "      <td>0.041609</td>\n",
              "    </tr>\n",
              "    <tr>\n",
              "      <th>4</th>\n",
              "      <td>0.352498</td>\n",
              "      <td>0.048367</td>\n",
              "      <td>0.131733</td>\n",
              "      <td>0.007232</td>\n",
              "      <td>0.202976</td>\n",
              "      <td>0.531130</td>\n",
              "      <td>0.109825</td>\n",
              "      <td>0.168321</td>\n",
              "      <td>0.061196</td>\n",
              "      <td>0.044006</td>\n",
              "      <td>0.005062</td>\n",
              "      <td>0.350172</td>\n",
              "      <td>0.570985</td>\n",
              "      <td>0.155927</td>\n",
              "      <td>0.063263</td>\n",
              "      <td>0.240097</td>\n",
              "      <td>0.258672</td>\n",
              "      <td>0.000974</td>\n",
              "      <td>0.212851</td>\n",
              "      <td>0.076594</td>\n",
              "      <td>0.359286</td>\n",
              "      <td>0.182394</td>\n",
              "      <td>0.075757</td>\n",
              "      <td>0.016475</td>\n",
              "      <td>0.112069</td>\n",
              "      <td>0.326651</td>\n",
              "      <td>0.127287</td>\n",
              "      <td>0.180572</td>\n",
              "      <td>0.360499</td>\n",
              "      <td>0.213463</td>\n",
              "    </tr>\n",
              "  </tbody>\n",
              "</table>\n",
              "</div>"
            ],
            "text/plain": [
              "         0         1         2   ...        27        28        29\n",
              "0  0.154530  0.067232  0.114163  ...  0.021957  0.075406  0.025881\n",
              "1  0.067232  0.210769  0.230892  ...  0.312674  0.362604  0.076289\n",
              "2  0.114163  0.230892  0.766893  ...  0.677837  0.194241  0.967901\n",
              "3  0.119520  0.241605  0.017749  ...  0.101567  0.249203  0.041609\n",
              "4  0.352498  0.048367  0.131733  ...  0.180572  0.360499  0.213463\n",
              "\n",
              "[5 rows x 30 columns]"
            ]
          },
          "metadata": {
            "tags": []
          },
          "execution_count": 7
        }
      ]
    },
    {
      "cell_type": "markdown",
      "metadata": {
        "id": "8JdyNfbH6nAn"
      },
      "source": [
        "## Utility Functions"
      ]
    },
    {
      "cell_type": "code",
      "metadata": {
        "id": "zlhtnvxR2YsH"
      },
      "source": [
        "def _hc_cut(n_clusters, children, n_leaves):\n",
        "    nodes = [-(max(children[-1]) + 1)]\n",
        "    for _ in range(n_clusters - 1):\n",
        "        these_children = children[-nodes[0] - n_leaves]\n",
        "        heappush(nodes, -these_children[0])\n",
        "        heappushpop(nodes, -these_children[1])\n",
        "    label = np.zeros(n_leaves, dtype=np.intp)\n",
        "    for i, node in enumerate(nodes):\n",
        "        label[_hierarchical._hc_get_descendent(-node, children, n_leaves)] = i\n",
        "    return label"
      ],
      "execution_count": null,
      "outputs": []
    },
    {
      "cell_type": "code",
      "metadata": {
        "id": "8ISWnwAL1Yzm"
      },
      "source": [
        "def linkage_tree(X, connectivity=None, n_clusters=None, linkage='average',\n",
        "                 affinity=\"precomputed\", return_distance=False):\n",
        "    X = np.asarray(X)\n",
        "    if X.ndim == 1:\n",
        "        X = np.reshape(X, (-1, 1))\n",
        "    n_samples, n_features = X.shape\n",
        "\n",
        "    linkage_choices = {'average': _hierarchical.average_merge}\n",
        "    join_func = linkage_choices[linkage]\n",
        "\n",
        "    if connectivity is None:\n",
        "        from scipy.cluster import hierarchy\n",
        "        if affinity == 'precomputed':\n",
        "            i, j = np.triu_indices(X.shape[0], k=1)\n",
        "            X = X[i, j]\n",
        "        out = hierarchy.linkage(X, method=linkage, metric=affinity)\n",
        "        children_ = out[:, :2].astype(np.int, copy=False)\n",
        "\n",
        "        if return_distance:\n",
        "            distances = out[:, 2]\n",
        "            return children_, 1, n_samples, None, distances\n",
        "        return children_, 1, n_samples, None\n",
        "\n",
        "    connectivity, n_connected_components = _fix_connectivity(\n",
        "                                                X, connectivity,\n",
        "                                                affinity=affinity)\n",
        "    connectivity = connectivity.tocoo()\n",
        "    diag_mask = (connectivity.row != connectivity.col)\n",
        "    connectivity.row = connectivity.row[diag_mask]\n",
        "    connectivity.col = connectivity.col[diag_mask]\n",
        "    connectivity.data = connectivity.data[diag_mask]\n",
        "    del diag_mask\n",
        "\n",
        "    if affinity == 'precomputed':\n",
        "        distances = X[connectivity.row, connectivity.col].astype(\n",
        "            'float64', **_astype_copy_false(X))\n",
        "    connectivity.data = distances\n",
        "\n",
        "    if n_clusters is None:\n",
        "        n_nodes = 2 * n_samples - 1\n",
        "    else:\n",
        "        assert n_clusters <= n_samples\n",
        "        n_nodes = 2 * n_samples - n_clusters\n",
        "\n",
        "    if return_distance:\n",
        "        distances = np.empty(n_nodes - n_samples)\n",
        "    A = np.empty(n_nodes, dtype=object)\n",
        "    inertia = list()\n",
        "\n",
        "    connectivity = connectivity.tolil()\n",
        "    for ind, (data, row) in enumerate(zip(connectivity.data,\n",
        "                                          connectivity.rows)):\n",
        "        A[ind] = IntFloatDict(np.asarray(row, dtype=np.intp),\n",
        "                              np.asarray(data, dtype=np.float64))\n",
        "        inertia.extend(_hierarchical.WeightedEdge(d, ind, r)\n",
        "                       for r, d in zip(row, data) if r < ind)\n",
        "    del connectivity\n",
        "\n",
        "    heapify(inertia)\n",
        "\n",
        "    parent = np.arange(n_nodes, dtype=np.intp)\n",
        "    used_node = np.ones(n_nodes, dtype=np.intp)\n",
        "    children = []\n",
        "\n",
        "    for k in range(n_samples, n_nodes):\n",
        "        while True:\n",
        "            edge = heappop(inertia)\n",
        "            if used_node[edge.a] and used_node[edge.b]:\n",
        "                break\n",
        "        i = edge.a\n",
        "        j = edge.b\n",
        "\n",
        "        if return_distance:\n",
        "            distances[k - n_samples] = edge.weight\n",
        "\n",
        "        parent[i] = parent[j] = k\n",
        "        children.append((i, j))\n",
        "        n_i = used_node[i]\n",
        "        n_j = used_node[j]\n",
        "        used_node[k] = n_i + n_j\n",
        "        used_node[i] = used_node[j] = False\n",
        "\n",
        "        coord_col = join_func(A[i], A[j], used_node, n_i, n_j)\n",
        "        for l, d in coord_col:\n",
        "            A[l].append(k, d)\n",
        "            heappush(inertia, _hierarchical.WeightedEdge(d, k, l))\n",
        "        A[k] = coord_col\n",
        "        A[i] = A[j] = 0\n",
        "    n_leaves = n_samples\n",
        "    children = np.array(children)[:, ::-1]\n",
        "\n",
        "    if return_distance:\n",
        "        return children, n_connected_components, n_leaves, parent, distances\n",
        "    return children, n_connected_components, n_leaves, parent"
      ],
      "execution_count": null,
      "outputs": []
    },
    {
      "cell_type": "code",
      "metadata": {
        "id": "NGU8Q5Kz1YYN"
      },
      "source": [
        "def _average_linkage(*args, **kwargs):\n",
        "    kwargs['linkage'] = 'average'\n",
        "    return linkage_tree(*args, **kwargs)"
      ],
      "execution_count": null,
      "outputs": []
    },
    {
      "cell_type": "code",
      "metadata": {
        "id": "yN-RcsSL1F2Q"
      },
      "source": [
        "_TREE_BUILDERS = dict(average=_average_linkage)"
      ],
      "execution_count": null,
      "outputs": []
    },
    {
      "cell_type": "markdown",
      "metadata": {
        "id": "Ka9uiYMQ6rX-"
      },
      "source": [
        "## Main Class"
      ]
    },
    {
      "cell_type": "code",
      "metadata": {
        "id": "e_vXAvw-ChGq"
      },
      "source": [
        "class HierarchialClustering:\n",
        "\n",
        "    def __init__(self, n_clusters=2, affinity=\"precomputed\",\n",
        "                 memory=None,\n",
        "                 connectivity=None, compute_full_tree='auto',\n",
        "                 linkage='average', distance_threshold=None):\n",
        "        self.n_clusters = n_clusters\n",
        "        self.distance_threshold = distance_threshold\n",
        "        self.memory = memory\n",
        "        self.connectivity = connectivity\n",
        "        self.compute_full_tree = compute_full_tree\n",
        "        self.linkage = linkage\n",
        "        self.affinity = affinity\n",
        "        \n",
        "    def n_components_(self):\n",
        "        return self.n_connected_components_\n",
        "\n",
        "    def fit(self, X, y=None):\n",
        "        X = check_array(X, ensure_min_samples=2, estimator=self)\n",
        "        memory = check_memory(self.memory)\n",
        "\n",
        "        tree_builder = _TREE_BUILDERS[self.linkage]\n",
        "\n",
        "        connectivity = self.connectivity\n",
        "        if self.connectivity is not None:\n",
        "            if callable(self.connectivity):\n",
        "                connectivity = self.connectivity(X)\n",
        "            connectivity = check_array(\n",
        "                connectivity, accept_sparse=['csr', 'coo', 'lil'])\n",
        "\n",
        "        n_samples = len(X)\n",
        "        compute_full_tree = self.compute_full_tree\n",
        "        if self.connectivity is None:\n",
        "            compute_full_tree = True\n",
        "        if compute_full_tree == 'auto':\n",
        "            if self.distance_threshold is not None:\n",
        "                compute_full_tree = True\n",
        "            else:\n",
        "                compute_full_tree = self.n_clusters < max(100, .02 * n_samples)\n",
        "        n_clusters = self.n_clusters\n",
        "        if compute_full_tree:\n",
        "            n_clusters = None\n",
        "\n",
        "        kwargs = {}\n",
        "        if self.linkage != 'ward':\n",
        "            kwargs['linkage'] = self.linkage\n",
        "            kwargs['affinity'] = self.affinity\n",
        "\n",
        "        distance_threshold = self.distance_threshold\n",
        "\n",
        "        return_distance = distance_threshold is not None\n",
        "        out = memory.cache(tree_builder)(X, connectivity,\n",
        "                                         n_clusters=n_clusters,\n",
        "                                         return_distance=return_distance,\n",
        "                                         **kwargs)\n",
        "        (self.children_,\n",
        "         self.n_connected_components_,\n",
        "         self.n_leaves_,\n",
        "         parents) = out[:4]\n",
        "\n",
        "        if return_distance:\n",
        "            self.distances_ = out[-1]\n",
        "            self.n_clusters_ = np.count_nonzero(\n",
        "                self.distances_ >= distance_threshold) + 1\n",
        "        else:\n",
        "            self.n_clusters_ = self.n_clusters\n",
        "\n",
        "        if compute_full_tree:\n",
        "            self.labels_ = _hc_cut(self.n_clusters_, self.children_,\n",
        "                                   self.n_leaves_)\n",
        "        else:\n",
        "            labels = _hierarchical.hc_get_heads(parents, copy=False)\n",
        "            labels = np.copy(labels[:n_samples])\n",
        "            self.labels_ = np.searchsorted(np.unique(labels), labels)\n",
        "        return self\n",
        "\n",
        "    def get_labels(self):\n",
        "      return self.labels_"
      ],
      "execution_count": null,
      "outputs": []
    },
    {
      "cell_type": "markdown",
      "metadata": {
        "id": "er6GqcbS8Fyp"
      },
      "source": [
        "## Q1"
      ]
    },
    {
      "cell_type": "code",
      "metadata": {
        "id": "5gKoEhymEuj6"
      },
      "source": [
        "hc = HierarchialClustering(n_clusters=2, affinity='precomputed', linkage='average')\n",
        "y_hc = hc.fit(data)"
      ],
      "execution_count": null,
      "outputs": []
    },
    {
      "cell_type": "code",
      "metadata": {
        "id": "HaJ7YhOmE3N8",
        "outputId": "9180ffca-ab91-4858-840e-3f97c2971531",
        "colab": {
          "base_uri": "https://localhost:8080/",
          "height": 35
        }
      },
      "source": [
        "y_hc.get_labels()"
      ],
      "execution_count": null,
      "outputs": [
        {
          "output_type": "execute_result",
          "data": {
            "text/plain": [
              "array([1, 1, 0, 0, 0, 0])"
            ]
          },
          "metadata": {
            "tags": []
          },
          "execution_count": 25
        }
      ]
    },
    {
      "cell_type": "code",
      "metadata": {
        "id": "1GzGl4_62oYM",
        "outputId": "2a7b5905-9268-4fc8-954b-5c461f1bfcda",
        "colab": {
          "base_uri": "https://localhost:8080/",
          "height": 340
        }
      },
      "source": [
        "dendrogram = sch.dendrogram(sch.linkage(data, method='average'))\n",
        "\n",
        "plt.title('Dendrogram')\n",
        "plt.show()"
      ],
      "execution_count": null,
      "outputs": [
        {
          "output_type": "stream",
          "text": [
            "/usr/local/lib/python3.6/dist-packages/ipykernel_launcher.py:1: ClusterWarning: scipy.cluster: The symmetric non-negative hollow observation matrix looks suspiciously like an uncondensed distance matrix\n",
            "  \"\"\"Entry point for launching an IPython kernel.\n"
          ],
          "name": "stderr"
        },
        {
          "output_type": "display_data",
          "data": {
            "image/png": "[encoded data removed]",
            "text/plain": [
              "<Figure size 432x288 with 1 Axes>"
            ]
          },
          "metadata": {
            "tags": [],
            "needs_background": "light"
          }
        }
      ]
    },
    {
      "cell_type": "markdown",
      "metadata": {
        "id": "qBlrhyK65hZb"
      },
      "source": [
        "As we can see the clusters are correctly mapped"
      ]
    },
    {
      "cell_type": "markdown",
      "metadata": {
        "id": "DXsZNZx78HhD"
      },
      "source": [
        "## Q2"
      ]
    },
    {
      "cell_type": "code",
      "metadata": {
        "id": "LRaSFXHA8JxI"
      },
      "source": [
        "hc = HierarchialClustering(n_clusters=7, affinity='precomputed', linkage='average')\n",
        "y_hc = hc.fit(data_2)"
      ],
      "execution_count": null,
      "outputs": []
    },
    {
      "cell_type": "code",
      "metadata": {
        "id": "H4BClCwR8V9Z",
        "outputId": "fbe1555b-74ab-4ca9-de99-94e753d04bef",
        "colab": {
          "base_uri": "https://localhost:8080/",
          "height": 54
        }
      },
      "source": [
        "y_hc.get_labels()"
      ],
      "execution_count": null,
      "outputs": [
        {
          "output_type": "execute_result",
          "data": {
            "text/plain": [
              "array([4, 0, 6, 2, 2, 1, 2, 5, 5, 1, 4, 6, 1, 0, 0, 1, 0, 2, 3, 6, 0, 4,\n",
              "       3, 6, 5, 1, 5, 3, 4, 5])"
            ]
          },
          "metadata": {
            "tags": []
          },
          "execution_count": 28
        }
      ]
    },
    {
      "cell_type": "code",
      "metadata": {
        "id": "ZjysPhN18OQK",
        "outputId": "5024ef79-f5a6-40c1-8025-9445ed153d67",
        "colab": {
          "base_uri": "https://localhost:8080/",
          "height": 287
        }
      },
      "source": [
        "dendrogram = sch.dendrogram(sch.linkage(data_2, method='average'))\n",
        "\n",
        "plt.title('Dendrogram')\n",
        "plt.show()"
      ],
      "execution_count": null,
      "outputs": [
        {
          "output_type": "display_data",
          "data": {
            "image/png": "[encoded data removed]",
            "text/plain": [
              "<Figure size 432x288 with 1 Axes>"
            ]
          },
          "metadata": {
            "tags": [],
            "needs_background": "light"
          }
        }
      ]
    }
  ]
}