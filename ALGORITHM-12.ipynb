{
  "nbformat": 4,
  "nbformat_minor": 0,
  "metadata": {
    "colab": {
      "name": "ASSIGN11_Q1_DM.ipynb",
      "provenance": []
    },
    "kernelspec": {
      "name": "python3",
      "display_name": "Python 3"
    }
  },
  "cells": [
    {
      "cell_type": "markdown",
      "metadata": {
        "id": "NaoC4Iy0uXcU"
      },
      "source": [
        "K-MEAN ALGORITHM"
      ]
    },
    {
      "cell_type": "code",
      "metadata": {
        "id": "ogHCsjpVUEi9"
      },
      "source": [
        "import pandas\n",
        "import numpy\n",
        "from numpy.linalg import norm\n",
        "\n",
        "import seaborn as sns\n",
        "from sklearn.preprocessing import StandardScaler\n",
        "\n",
        "import matplotlib.pyplot as plt\n",
        "from matplotlib.image import imread"
      ],
      "execution_count": null,
      "outputs": []
    },
    {
      "cell_type": "code",
      "metadata": {
        "id": "t633CEwZcM4O",
        "outputId": "05b3a698-f8e8-4b45-b4ec-d03d78523b2f",
        "colab": {
          "base_uri": "https://localhost:8080/",
          "height": 414
        }
      },
      "source": [
        "datalist = pandas.read_excel('Absenteeism_at_work.xls')\n",
        "datalist.head(10)"
      ],
      "execution_count": null,
      "outputs": [
        {
          "output_type": "execute_result",
          "data": {
            "text/html": [
              "<div>\n",
              "<style scoped>\n",
              "    .dataframe tbody tr th:only-of-type {\n",
              "        vertical-align: middle;\n",
              "    }\n",
              "\n",
              "    .dataframe tbody tr th {\n",
              "        vertical-align: top;\n",
              "    }\n",
              "\n",
              "    .dataframe thead th {\n",
              "        text-align: right;\n",
              "    }\n",
              "</style>\n",
              "<table border=\"1\" class=\"dataframe\">\n",
              "  <thead>\n",
              "    <tr style=\"text-align: right;\">\n",
              "      <th></th>\n",
              "      <th>ID</th>\n",
              "      <th>Reason for absence</th>\n",
              "      <th>Month of absence</th>\n",
              "      <th>Day of the week</th>\n",
              "      <th>Seasons</th>\n",
              "      <th>Transportation expense</th>\n",
              "      <th>Distance from Residence to Work</th>\n",
              "      <th>Service time</th>\n",
              "      <th>Age</th>\n",
              "      <th>Work load Average/day</th>\n",
              "      <th>Hit target</th>\n",
              "      <th>Disciplinary failure</th>\n",
              "      <th>Education</th>\n",
              "      <th>Son</th>\n",
              "      <th>Social drinker</th>\n",
              "      <th>Social smoker</th>\n",
              "      <th>Pet</th>\n",
              "      <th>Weight</th>\n",
              "      <th>Height</th>\n",
              "      <th>Body mass index</th>\n",
              "      <th>Absenteeism time in hours</th>\n",
              "    </tr>\n",
              "  </thead>\n",
              "  <tbody>\n",
              "    <tr>\n",
              "      <th>0</th>\n",
              "      <td>11</td>\n",
              "      <td>26</td>\n",
              "      <td>7</td>\n",
              "      <td>3</td>\n",
              "      <td>1</td>\n",
              "      <td>289</td>\n",
              "      <td>36</td>\n",
              "      <td>13</td>\n",
              "      <td>33</td>\n",
              "      <td>239554</td>\n",
              "      <td>97</td>\n",
              "      <td>0</td>\n",
              "      <td>1</td>\n",
              "      <td>2</td>\n",
              "      <td>1</td>\n",
              "      <td>0</td>\n",
              "      <td>1</td>\n",
              "      <td>90</td>\n",
              "      <td>172</td>\n",
              "      <td>30</td>\n",
              "      <td>4</td>\n",
              "    </tr>\n",
              "    <tr>\n",
              "      <th>1</th>\n",
              "      <td>36</td>\n",
              "      <td>0</td>\n",
              "      <td>7</td>\n",
              "      <td>3</td>\n",
              "      <td>1</td>\n",
              "      <td>118</td>\n",
              "      <td>13</td>\n",
              "      <td>18</td>\n",
              "      <td>50</td>\n",
              "      <td>239554</td>\n",
              "      <td>97</td>\n",
              "      <td>1</td>\n",
              "      <td>1</td>\n",
              "      <td>1</td>\n",
              "      <td>1</td>\n",
              "      <td>0</td>\n",
              "      <td>0</td>\n",
              "      <td>98</td>\n",
              "      <td>178</td>\n",
              "      <td>31</td>\n",
              "      <td>0</td>\n",
              "    </tr>\n",
              "    <tr>\n",
              "      <th>2</th>\n",
              "      <td>3</td>\n",
              "      <td>23</td>\n",
              "      <td>7</td>\n",
              "      <td>4</td>\n",
              "      <td>1</td>\n",
              "      <td>179</td>\n",
              "      <td>51</td>\n",
              "      <td>18</td>\n",
              "      <td>38</td>\n",
              "      <td>239554</td>\n",
              "      <td>97</td>\n",
              "      <td>0</td>\n",
              "      <td>1</td>\n",
              "      <td>0</td>\n",
              "      <td>1</td>\n",
              "      <td>0</td>\n",
              "      <td>0</td>\n",
              "      <td>89</td>\n",
              "      <td>170</td>\n",
              "      <td>31</td>\n",
              "      <td>2</td>\n",
              "    </tr>\n",
              "    <tr>\n",
              "      <th>3</th>\n",
              "      <td>7</td>\n",
              "      <td>7</td>\n",
              "      <td>7</td>\n",
              "      <td>5</td>\n",
              "      <td>1</td>\n",
              "      <td>279</td>\n",
              "      <td>5</td>\n",
              "      <td>14</td>\n",
              "      <td>39</td>\n",
              "      <td>239554</td>\n",
              "      <td>97</td>\n",
              "      <td>0</td>\n",
              "      <td>1</td>\n",
              "      <td>2</td>\n",
              "      <td>1</td>\n",
              "      <td>1</td>\n",
              "      <td>0</td>\n",
              "      <td>68</td>\n",
              "      <td>168</td>\n",
              "      <td>24</td>\n",
              "      <td>4</td>\n",
              "    </tr>\n",
              "    <tr>\n",
              "      <th>4</th>\n",
              "      <td>11</td>\n",
              "      <td>23</td>\n",
              "      <td>7</td>\n",
              "      <td>5</td>\n",
              "      <td>1</td>\n",
              "      <td>289</td>\n",
              "      <td>36</td>\n",
              "      <td>13</td>\n",
              "      <td>33</td>\n",
              "      <td>239554</td>\n",
              "      <td>97</td>\n",
              "      <td>0</td>\n",
              "      <td>1</td>\n",
              "      <td>2</td>\n",
              "      <td>1</td>\n",
              "      <td>0</td>\n",
              "      <td>1</td>\n",
              "      <td>90</td>\n",
              "      <td>172</td>\n",
              "      <td>30</td>\n",
              "      <td>2</td>\n",
              "    </tr>\n",
              "    <tr>\n",
              "      <th>5</th>\n",
              "      <td>3</td>\n",
              "      <td>23</td>\n",
              "      <td>7</td>\n",
              "      <td>6</td>\n",
              "      <td>1</td>\n",
              "      <td>179</td>\n",
              "      <td>51</td>\n",
              "      <td>18</td>\n",
              "      <td>38</td>\n",
              "      <td>239554</td>\n",
              "      <td>97</td>\n",
              "      <td>0</td>\n",
              "      <td>1</td>\n",
              "      <td>0</td>\n",
              "      <td>1</td>\n",
              "      <td>0</td>\n",
              "      <td>0</td>\n",
              "      <td>89</td>\n",
              "      <td>170</td>\n",
              "      <td>31</td>\n",
              "      <td>2</td>\n",
              "    </tr>\n",
              "    <tr>\n",
              "      <th>6</th>\n",
              "      <td>10</td>\n",
              "      <td>22</td>\n",
              "      <td>7</td>\n",
              "      <td>6</td>\n",
              "      <td>1</td>\n",
              "      <td>361</td>\n",
              "      <td>52</td>\n",
              "      <td>3</td>\n",
              "      <td>28</td>\n",
              "      <td>239554</td>\n",
              "      <td>97</td>\n",
              "      <td>0</td>\n",
              "      <td>1</td>\n",
              "      <td>1</td>\n",
              "      <td>1</td>\n",
              "      <td>0</td>\n",
              "      <td>4</td>\n",
              "      <td>80</td>\n",
              "      <td>172</td>\n",
              "      <td>27</td>\n",
              "      <td>8</td>\n",
              "    </tr>\n",
              "    <tr>\n",
              "      <th>7</th>\n",
              "      <td>20</td>\n",
              "      <td>23</td>\n",
              "      <td>7</td>\n",
              "      <td>6</td>\n",
              "      <td>1</td>\n",
              "      <td>260</td>\n",
              "      <td>50</td>\n",
              "      <td>11</td>\n",
              "      <td>36</td>\n",
              "      <td>239554</td>\n",
              "      <td>97</td>\n",
              "      <td>0</td>\n",
              "      <td>1</td>\n",
              "      <td>4</td>\n",
              "      <td>1</td>\n",
              "      <td>0</td>\n",
              "      <td>0</td>\n",
              "      <td>65</td>\n",
              "      <td>168</td>\n",
              "      <td>23</td>\n",
              "      <td>4</td>\n",
              "    </tr>\n",
              "    <tr>\n",
              "      <th>8</th>\n",
              "      <td>14</td>\n",
              "      <td>19</td>\n",
              "      <td>7</td>\n",
              "      <td>2</td>\n",
              "      <td>1</td>\n",
              "      <td>155</td>\n",
              "      <td>12</td>\n",
              "      <td>14</td>\n",
              "      <td>34</td>\n",
              "      <td>239554</td>\n",
              "      <td>97</td>\n",
              "      <td>0</td>\n",
              "      <td>1</td>\n",
              "      <td>2</td>\n",
              "      <td>1</td>\n",
              "      <td>0</td>\n",
              "      <td>0</td>\n",
              "      <td>95</td>\n",
              "      <td>196</td>\n",
              "      <td>25</td>\n",
              "      <td>40</td>\n",
              "    </tr>\n",
              "    <tr>\n",
              "      <th>9</th>\n",
              "      <td>1</td>\n",
              "      <td>22</td>\n",
              "      <td>7</td>\n",
              "      <td>2</td>\n",
              "      <td>1</td>\n",
              "      <td>235</td>\n",
              "      <td>11</td>\n",
              "      <td>14</td>\n",
              "      <td>37</td>\n",
              "      <td>239554</td>\n",
              "      <td>97</td>\n",
              "      <td>0</td>\n",
              "      <td>3</td>\n",
              "      <td>1</td>\n",
              "      <td>0</td>\n",
              "      <td>0</td>\n",
              "      <td>1</td>\n",
              "      <td>88</td>\n",
              "      <td>172</td>\n",
              "      <td>29</td>\n",
              "      <td>8</td>\n",
              "    </tr>\n",
              "  </tbody>\n",
              "</table>\n",
              "</div>"
            ],
            "text/plain": [
              "   ID  Reason for absence  ...  Body mass index  Absenteeism time in hours\n",
              "0  11                  26  ...               30                          4\n",
              "1  36                   0  ...               31                          0\n",
              "2   3                  23  ...               31                          2\n",
              "3   7                   7  ...               24                          4\n",
              "4  11                  23  ...               30                          2\n",
              "5   3                  23  ...               31                          2\n",
              "6  10                  22  ...               27                          8\n",
              "7  20                  23  ...               23                          4\n",
              "8  14                  19  ...               25                         40\n",
              "9   1                  22  ...               29                          8\n",
              "\n",
              "[10 rows x 21 columns]"
            ]
          },
          "metadata": {
            "tags": []
          },
          "execution_count": 122
        }
      ]
    },
    {
      "cell_type": "code",
      "metadata": {
        "id": "fOUGP5_hdlz6"
      },
      "source": [
        "Df = StandardScaler().fit_transform(datalist)"
      ],
      "execution_count": null,
      "outputs": []
    },
    {
      "cell_type": "code",
      "metadata": {
        "id": "3syOSG6ov7bE"
      },
      "source": [
        "def Centroid_initalize(data,random_state,n_clusters):\n",
        "    numpy.random.RandomState(random_state)\n",
        "    random_idx = numpy.random.permutation(data.shape[0])\n",
        "    centroids = data[random_idx[:n_clusters]]\n",
        "    return centroids"
      ],
      "execution_count": null,
      "outputs": []
    },
    {
      "cell_type": "code",
      "metadata": {
        "id": "qyLfl8ECv87h"
      },
      "source": [
        "def Centroid_calculation(data, Label,n_clusters):\n",
        "    centroids = numpy.zeros((n_clusters, data.shape[1]))\n",
        "    for l in range(n_clusters):\n",
        "        centroids[l, :] = numpy.mean(data[Label == l, :], axis=0)\n",
        "    return centroids"
      ],
      "execution_count": null,
      "outputs": []
    },
    {
      "cell_type": "code",
      "metadata": {
        "id": "5MMG0vAXv_V9"
      },
      "source": [
        "def Distance_calculation(data, centroids,n_clusters):\n",
        "    distance = numpy.zeros((data.shape[0], n_clusters))\n",
        "    for l in range(n_clusters):\n",
        "        row_norm = norm(data - centroids[l, :], axis=1)\n",
        "        distance[:, l] = numpy.square(row_norm)\n",
        "    return distance"
      ],
      "execution_count": null,
      "outputs": []
    },
    {
      "cell_type": "code",
      "metadata": {
        "id": "AmjvTgMbwCF2"
      },
      "source": [
        "def Nearest_cluster(distance):\n",
        "  #finding minimum distance\n",
        "    return numpy.argmin(distance, axis=1)"
      ],
      "execution_count": null,
      "outputs": []
    },
    {
      "cell_type": "code",
      "metadata": {
        "id": "j6QCak7gwE0e"
      },
      "source": [
        "def Compute_sse(data, Label, centroids,n_clusters):\n",
        "    distance = numpy.zeros(data.shape[0])\n",
        "    for l in range(n_clusters):\n",
        "        distance[Label == l] = norm(data[Label == l] - centroids[l], axis=1)\n",
        "    return numpy.sum(numpy.square(distance))"
      ],
      "execution_count": null,
      "outputs": []
    },
    {
      "cell_type": "code",
      "metadata": {
        "id": "R8zwz0qhd9_6"
      },
      "source": [
        "def fit(data,n_clusters, max_iter, random_state=420):\n",
        "  centroids = Centroid_initalize(data,random_state,n_clusters)\n",
        "  print(centroids.shape)\n",
        "  for i in range(max_iter):\n",
        "      centroid_previous = centroids\n",
        "      distance = Distance_calculation(data, centroid_previous,n_clusters)\n",
        "      Label = Nearest_cluster(distance)\n",
        "      centroids = Centroid_calculation(data, Label,n_clusters)\n",
        "      if numpy.all(centroid_previous == centroids):\n",
        "          break\n",
        "          \n",
        "  Error = Compute_sse(data, Label, centroids,n_clusters)\n",
        "  return centroids,Error,Label"
      ],
      "execution_count": null,
      "outputs": []
    },
    {
      "cell_type": "code",
      "metadata": {
        "id": "zaynVPr6d-lq"
      },
      "source": [
        "def predict(data):\n",
        "        distance = Distance_calculation(data, centroid_previous)\n",
        "        return Nearest_cluster(distance)"
      ],
      "execution_count": null,
      "outputs": []
    },
    {
      "cell_type": "code",
      "metadata": {
        "id": "QzHEEZTVeAGO",
        "outputId": "bde1c652-7034-49de-8112-721e0e66fb96",
        "colab": {
          "base_uri": "https://localhost:8080/",
          "height": 34
        }
      },
      "source": [
        "Maximum_iterations = 100\n",
        "Number_of_Clusters = 3\n",
        "Centroid, Error, Label = fit(Df, Number_of_Clusters, Maximum_iterations)"
      ],
      "execution_count": null,
      "outputs": [
        {
          "output_type": "stream",
          "text": [
            "(3, 21)\n"
          ],
          "name": "stdout"
        }
      ]
    },
    {
      "cell_type": "code",
      "metadata": {
        "id": "8xXV6rfKeBpt",
        "outputId": "2c71320a-5456-49e7-d523-221a6d87f0b1",
        "colab": {
          "base_uri": "https://localhost:8080/",
          "height": 34
        }
      },
      "source": [
        "Centroid.shape"
      ],
      "execution_count": null,
      "outputs": [
        {
          "output_type": "execute_result",
          "data": {
            "text/plain": [
              "(3, 21)"
            ]
          },
          "metadata": {
            "tags": []
          },
          "execution_count": 133
        }
      ]
    },
    {
      "cell_type": "code",
      "metadata": {
        "id": "Cin1oeGIeDPv",
        "outputId": "96144075-0512-42ad-ca95-212171966b5f",
        "colab": {
          "base_uri": "https://localhost:8080/",
          "height": 34
        }
      },
      "source": [
        "Error"
      ],
      "execution_count": null,
      "outputs": [
        {
          "output_type": "execute_result",
          "data": {
            "text/plain": [
              "12475.588800791782"
            ]
          },
          "metadata": {
            "tags": []
          },
          "execution_count": 134
        }
      ]
    },
    {
      "cell_type": "code",
      "metadata": {
        "id": "9snWFcEfeEqi",
        "outputId": "4823a0f9-d571-40d6-a6bb-7db738c0324c",
        "colab": {
          "base_uri": "https://localhost:8080/",
          "height": 588
        }
      },
      "source": [
        "Label"
      ],
      "execution_count": null,
      "outputs": [
        {
          "output_type": "execute_result",
          "data": {
            "text/plain": [
              "array([1, 2, 2, 1, 1, 2, 1, 1, 2, 0, 1, 1, 1, 2, 2, 1, 2, 2, 1, 1, 0, 2,\n",
              "       1, 1, 1, 1, 1, 0, 1, 2, 2, 1, 0, 1, 2, 1, 1, 1, 1, 1, 0, 0, 2, 2,\n",
              "       2, 0, 2, 1, 1, 1, 1, 0, 0, 0, 1, 2, 0, 2, 1, 1, 2, 1, 2, 0, 2, 0,\n",
              "       2, 0, 0, 0, 1, 1, 2, 0, 1, 1, 0, 1, 1, 1, 2, 0, 2, 0, 1, 2, 1, 1,\n",
              "       0, 2, 0, 0, 0, 1, 1, 0, 1, 1, 1, 0, 2, 0, 0, 1, 0, 1, 0, 1, 0, 1,\n",
              "       0, 1, 0, 0, 0, 0, 2, 0, 0, 0, 0, 0, 0, 0, 0, 0, 0, 0, 0, 0, 1, 0,\n",
              "       0, 0, 0, 0, 1, 0, 1, 2, 2, 1, 1, 1, 0, 0, 0, 0, 0, 0, 0, 0, 0, 0,\n",
              "       1, 1, 1, 0, 0, 1, 1, 0, 1, 1, 0, 2, 1, 2, 1, 0, 1, 0, 1, 2, 0, 0,\n",
              "       0, 0, 0, 2, 1, 0, 1, 0, 1, 0, 2, 1, 2, 0, 1, 2, 2, 1, 1, 1, 1, 1,\n",
              "       1, 2, 1, 1, 0, 1, 1, 2, 2, 2, 0, 0, 2, 2, 1, 1, 0, 1, 1, 2, 2, 1,\n",
              "       1, 1, 1, 1, 1, 2, 2, 1, 2, 0, 2, 2, 1, 2, 2, 0, 2, 2, 0, 0, 0, 0,\n",
              "       2, 0, 0, 0, 1, 1, 2, 1, 1, 1, 1, 0, 1, 1, 1, 1, 1, 1, 1, 0, 0, 2,\n",
              "       1, 0, 2, 0, 1, 0, 2, 2, 1, 2, 1, 1, 2, 1, 2, 1, 2, 1, 1, 2, 2, 2,\n",
              "       1, 1, 2, 1, 0, 1, 1, 2, 1, 0, 0, 1, 2, 0, 2, 1, 1, 2, 2, 2, 2, 1,\n",
              "       0, 2, 1, 1, 1, 0, 0, 0, 2, 0, 1, 2, 1, 1, 1, 2, 2, 0, 0, 0, 0, 2,\n",
              "       1, 1, 1, 2, 1, 1, 1, 1, 2, 0, 2, 2, 0, 2, 1, 1, 2, 2, 0, 0, 0, 2,\n",
              "       2, 0, 1, 0, 2, 1, 0, 0, 2, 0, 2, 1, 1, 2, 2, 2, 2, 0, 2, 0, 1, 1,\n",
              "       2, 2, 2, 2, 1, 2, 1, 2, 1, 1, 0, 2, 2, 1, 2, 2, 0, 1, 1, 1, 2, 0,\n",
              "       0, 1, 2, 1, 1, 0, 2, 2, 2, 0, 1, 2, 2, 1, 1, 1, 2, 1, 0, 1, 1, 0,\n",
              "       2, 2, 2, 1, 1, 2, 0, 2, 1, 1, 0, 2, 1, 1, 0, 0, 1, 0, 0, 0, 0, 0,\n",
              "       0, 0, 2, 0, 0, 1, 2, 1, 2, 1, 2, 2, 2, 0, 2, 2, 0, 1, 0, 0, 0, 0,\n",
              "       1, 0, 0, 0, 1, 0, 1, 1, 1, 1, 2, 2, 1, 1, 2, 1, 1, 1, 2, 0, 1, 0,\n",
              "       1, 2, 1, 2, 0, 0, 0, 1, 0, 1, 1, 1, 1, 0, 2, 1, 0, 1, 2, 0, 0, 1,\n",
              "       1, 2, 0, 1, 2, 1, 0, 2, 1, 0, 1, 1, 0, 1, 2, 1, 1, 1, 0, 1, 0, 1,\n",
              "       0, 1, 0, 0, 2, 0, 0, 2, 0, 1, 0, 0, 1, 1, 0, 0, 2, 0, 0, 0, 1, 1,\n",
              "       1, 2, 0, 1, 1, 2, 1, 0, 0, 0, 0, 1, 0, 2, 1, 0, 0, 0, 0, 2, 0, 0,\n",
              "       0, 0, 0, 0, 2, 0, 0, 2, 0, 2, 1, 2, 2, 2, 0, 1, 2, 0, 2, 0, 0, 2,\n",
              "       1, 2, 0, 2, 2, 0, 0, 0, 2, 1, 0, 2, 2, 2, 2, 0, 2, 0, 2, 1, 0, 2,\n",
              "       2, 0, 2, 1, 1, 1, 1, 2, 0, 2, 0, 0, 0, 1, 2, 2, 2, 0, 2, 1, 2, 0,\n",
              "       2, 1, 1, 2, 1, 2, 0, 2, 2, 2, 2, 2, 2, 0, 1, 1, 0, 0, 1, 1, 1, 0,\n",
              "       1, 0, 2, 1, 0, 0, 0, 0, 0, 0, 2, 0, 2, 0, 0, 0, 0, 0, 2, 0, 1, 0,\n",
              "       1, 0, 0, 2, 2, 0, 2, 0, 1, 0, 2, 0, 1, 0, 0, 0, 0, 1, 0, 1, 2, 0,\n",
              "       2, 0, 2, 0, 0, 0, 1, 2, 1, 0, 1, 0, 2, 0, 1, 0, 0, 1, 0, 0, 1, 2,\n",
              "       1, 1, 0, 1, 1, 0, 1, 0, 1, 1, 0, 2, 2, 1])"
            ]
          },
          "metadata": {
            "tags": []
          },
          "execution_count": 135
        }
      ]
    },
    {
      "cell_type": "markdown",
      "metadata": {
        "id": "2RDOF4gvwMW3"
      },
      "source": [
        "PAM ALGORITHM"
      ]
    },
    {
      "cell_type": "code",
      "metadata": {
        "id": "zPjUdGnkwOUl"
      },
      "source": [
        "def Convergance(medoid_prevoius, medoids):\n",
        "    return set([tuple(x) for x in medoid_prevoius]) == set([tuple(x) for x in medoids])"
      ],
      "execution_count": null,
      "outputs": []
    },
    {
      "cell_type": "code",
      "metadata": {
        "id": "4wmukpDPwWBd"
      },
      "source": [
        "def New_medoids(data, medoids,cost,labels,n_clusters):\n",
        "  for i in set(labels): \n",
        "    for j in data[labels == i]:\n",
        "      old_medoid = copy.deepcopy(medoids[i])\n",
        "      medoids[i] = j\n",
        "      distance = Distance_calculation(data, medoids,n_clusters)\n",
        "      labels = Nearest_cluster(distance)\n",
        "      new_cost = Compute_sse(data, labels, medoids,n_clusters)\n",
        "      if new_cost < cost:\n",
        "        print(\"cost is \",new_cost)\n",
        "        cost = new_cost\n",
        "      else:\n",
        "        medoids[i] = old_medoid\n",
        "  return medoids"
      ],
      "execution_count": null,
      "outputs": []
    },
    {
      "cell_type": "code",
      "metadata": {
        "id": "Y_1t4wwrwYjY"
      },
      "source": [
        "def fit(data,n_clusters, max_iter, random_state=420):\n",
        "  medoids = initializ_centroids(data,random_state,n_clusters)\n",
        "  i = 0\n",
        "  converged = False\n",
        "  while( i<=max_iter and not converged):\n",
        "      medoid_prevoius = copy.deepcopy(medoids)\n",
        "      distance = Distance_calculation(data, medoid_prevoius,n_clusters)\n",
        "      labels = Nearest_cluster(distance)\n",
        "      cost = Compute_sse(data, labels, medoids,n_clusters)\n",
        "      print(\"original cost is \",cost)\n",
        "      medoids = New_medoids(data,medoids,cost,labels,n_clusters)\n",
        "      converged = Convergance(medoid_prevoius,medoids)\n",
        "      i=i+1\n",
        "  error = Compute_sse(data, labels, medoids,n_clusters)\n",
        "  print(i)\n",
        "  return medoids,error,labels"
      ],
      "execution_count": null,
      "outputs": []
    },
    {
      "cell_type": "code",
      "metadata": {
        "id": "OlSUkraPwZh5",
        "outputId": "dc60752d-5ba5-41e1-a5a7-fa7866a658c9",
        "colab": {
          "base_uri": "https://localhost:8080/",
          "height": 370
        }
      },
      "source": [
        "Maximum_iterations=100\n",
        "K = 3\n",
        "Medoids, Error, Label_medoid = fit(Df, K, Maximum_iterations)"
      ],
      "execution_count": null,
      "outputs": [
        {
          "output_type": "stream",
          "text": [
            "original cost is  19932.38319206306\n",
            "cost is  18152.89032264604\n",
            "cost is  17736.5541594413\n",
            "cost is  17542.94886549675\n",
            "cost is  17394.825461758148\n",
            "cost is  16668.283219960125\n",
            "cost is  16660.788360590086\n",
            "cost is  16565.685468431442\n",
            "cost is  16397.352497372645\n",
            "cost is  16393.826530331396\n",
            "cost is  16078.66885442997\n",
            "original cost is  16078.66885442997\n",
            "cost is  15973.553906729669\n",
            "cost is  15781.00098840552\n",
            "cost is  15760.741834251628\n",
            "cost is  15519.789805619206\n",
            "original cost is  15519.789805619206\n",
            "cost is  15518.884977846305\n",
            "cost is  15515.053459927747\n",
            "original cost is  15515.053459927747\n",
            "4\n"
          ],
          "name": "stdout"
        }
      ]
    },
    {
      "cell_type": "code",
      "metadata": {
        "id": "95ZsVsu3wbzk",
        "outputId": "18f33b7c-a822-41d3-eb8c-3b6bafc2ae22",
        "colab": {
          "base_uri": "https://localhost:8080/",
          "height": 34
        }
      },
      "source": [
        "Error"
      ],
      "execution_count": null,
      "outputs": [
        {
          "output_type": "execute_result",
          "data": {
            "text/plain": [
              "15515.053459927747"
            ]
          },
          "metadata": {
            "tags": []
          },
          "execution_count": 155
        }
      ]
    },
    {
      "cell_type": "code",
      "metadata": {
        "id": "fTfeSetUwevY",
        "outputId": "8378e94e-f0bf-4ec6-aa5b-31c85668f6de",
        "colab": {
          "base_uri": "https://localhost:8080/",
          "height": 588
        }
      },
      "source": [
        "Label_medoid"
      ],
      "execution_count": null,
      "outputs": [
        {
          "output_type": "execute_result",
          "data": {
            "text/plain": [
              "array([1, 0, 1, 0, 1, 1, 2, 2, 0, 1, 0, 0, 0, 1, 1, 0, 1, 1, 2, 2, 2, 1,\n",
              "       0, 2, 0, 0, 0, 2, 0, 1, 1, 2, 2, 0, 1, 0, 0, 0, 2, 2, 2, 2, 1, 1,\n",
              "       0, 2, 1, 0, 0, 0, 0, 2, 2, 2, 0, 0, 2, 1, 0, 2, 1, 0, 1, 2, 0, 2,\n",
              "       1, 2, 2, 2, 0, 0, 1, 2, 0, 0, 2, 0, 0, 0, 1, 2, 1, 0, 0, 0, 0, 0,\n",
              "       2, 0, 2, 0, 2, 0, 0, 2, 0, 0, 0, 2, 0, 0, 2, 0, 2, 0, 2, 0, 2, 0,\n",
              "       2, 0, 2, 2, 2, 2, 1, 2, 2, 2, 2, 2, 2, 2, 2, 2, 2, 2, 2, 2, 1, 2,\n",
              "       2, 2, 2, 2, 1, 2, 0, 1, 1, 2, 2, 1, 0, 0, 2, 2, 2, 2, 2, 2, 2, 2,\n",
              "       2, 1, 0, 2, 2, 0, 0, 2, 2, 0, 0, 0, 0, 1, 0, 2, 2, 2, 0, 1, 2, 2,\n",
              "       2, 2, 2, 1, 0, 2, 2, 2, 0, 2, 1, 0, 1, 2, 2, 1, 1, 0, 0, 0, 2, 0,\n",
              "       0, 0, 2, 0, 2, 0, 0, 1, 0, 1, 2, 2, 0, 1, 0, 0, 2, 0, 0, 1, 0, 2,\n",
              "       0, 0, 0, 0, 0, 1, 0, 0, 0, 2, 1, 0, 2, 1, 1, 2, 1, 1, 2, 2, 2, 2,\n",
              "       1, 2, 2, 2, 2, 1, 1, 0, 1, 0, 1, 2, 0, 0, 0, 0, 2, 0, 2, 2, 2, 1,\n",
              "       0, 1, 1, 2, 0, 2, 1, 1, 0, 0, 0, 0, 0, 0, 1, 0, 1, 0, 0, 0, 0, 0,\n",
              "       0, 0, 0, 0, 0, 0, 0, 0, 0, 0, 0, 0, 1, 0, 0, 0, 0, 0, 0, 0, 0, 0,\n",
              "       2, 0, 0, 0, 0, 0, 2, 2, 0, 0, 0, 0, 0, 0, 0, 0, 0, 0, 0, 2, 0, 1,\n",
              "       0, 0, 0, 1, 0, 0, 0, 0, 1, 2, 1, 1, 0, 0, 0, 0, 1, 1, 2, 2, 0, 1,\n",
              "       0, 0, 0, 0, 1, 0, 2, 2, 1, 1, 1, 1, 0, 1, 1, 1, 1, 2, 1, 2, 1, 2,\n",
              "       1, 1, 1, 1, 1, 1, 2, 1, 0, 0, 2, 1, 1, 0, 1, 1, 2, 0, 1, 2, 1, 1,\n",
              "       2, 2, 1, 2, 0, 1, 1, 1, 1, 0, 0, 1, 1, 1, 0, 0, 1, 2, 2, 0, 0, 2,\n",
              "       1, 1, 0, 0, 2, 1, 2, 1, 2, 0, 2, 1, 2, 2, 0, 0, 0, 2, 2, 2, 2, 0,\n",
              "       2, 2, 1, 2, 2, 2, 1, 0, 1, 0, 1, 1, 1, 2, 1, 1, 2, 2, 2, 0, 2, 2,\n",
              "       0, 0, 2, 2, 0, 2, 0, 0, 0, 2, 1, 1, 2, 0, 1, 0, 0, 0, 1, 2, 0, 2,\n",
              "       0, 1, 0, 1, 2, 2, 0, 0, 2, 0, 0, 0, 0, 2, 0, 0, 2, 2, 1, 2, 2, 0,\n",
              "       0, 0, 2, 0, 0, 0, 2, 1, 0, 2, 0, 0, 2, 0, 1, 0, 0, 0, 2, 0, 2, 0,\n",
              "       0, 0, 0, 2, 1, 2, 0, 1, 0, 0, 2, 2, 0, 0, 2, 2, 1, 2, 0, 2, 0, 0,\n",
              "       0, 0, 2, 0, 0, 0, 0, 2, 2, 2, 2, 0, 2, 1, 0, 2, 2, 2, 2, 0, 2, 2,\n",
              "       2, 2, 2, 2, 1, 2, 2, 1, 2, 1, 1, 1, 1, 1, 2, 0, 1, 2, 1, 2, 2, 1,\n",
              "       2, 1, 2, 1, 1, 2, 2, 2, 1, 2, 2, 1, 1, 1, 1, 2, 1, 2, 1, 2, 2, 1,\n",
              "       1, 2, 1, 2, 0, 2, 0, 1, 2, 1, 2, 2, 2, 2, 1, 1, 1, 2, 1, 0, 1, 2,\n",
              "       1, 1, 0, 1, 2, 1, 2, 1, 1, 1, 0, 1, 1, 2, 0, 0, 2, 2, 0, 0, 2, 2,\n",
              "       0, 0, 1, 0, 2, 2, 2, 2, 2, 2, 0, 2, 1, 2, 0, 0, 2, 2, 1, 2, 0, 0,\n",
              "       0, 2, 2, 1, 0, 2, 0, 2, 2, 2, 0, 2, 0, 2, 2, 2, 2, 0, 2, 0, 0, 2,\n",
              "       0, 2, 0, 2, 2, 2, 2, 1, 2, 2, 0, 0, 1, 2, 0, 2, 2, 2, 2, 2, 2, 1,\n",
              "       2, 0, 2, 0, 2, 2, 2, 2, 0, 0, 0, 1, 1, 2])"
            ]
          },
          "metadata": {
            "tags": []
          },
          "execution_count": 156
        }
      ]
    }
  ]
}