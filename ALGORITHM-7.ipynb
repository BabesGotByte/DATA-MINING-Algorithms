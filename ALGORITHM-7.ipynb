{
  "nbformat": 4,
  "nbformat_minor": 0,
  "metadata": {
    "colab": {
      "name": "DM_ASSIGN_7.ipynb",
      "provenance": []
    },
    "kernelspec": {
      "name": "python3",
      "display_name": "Python 3"
    }
  },
  "cells": [
    {
      "cell_type": "code",
      "metadata": {
        "id": "HSoQPZrhaqfK"
      },
      "source": [
        "from csv import reader\n",
        "from sys import exit\n",
        "from math import sqrt\n",
        "from operator import itemgetter"
      ],
      "execution_count": null,
      "outputs": []
    },
    {
      "cell_type": "code",
      "metadata": {
        "id": "WwgrFvvaayHm",
        "outputId": "09a821d8-83d5-48cb-a971-3063e615b1b6",
        "colab": {
          "base_uri": "https://localhost:8080/",
          "height": 1000
        }
      },
      "source": [
        "with open('iris-dataset.csv','r') as file:\n",
        "    \n",
        "    data_list = file.readlines()\n",
        "    data_list = [data.split(',') for data in data_list]\n",
        "\n",
        "    for data in data_list :\n",
        "        data[0] = float(data[0])\n",
        "        data[1] = float(data[1])\n",
        "        data[2] = float(data[2])\n",
        "        data[3] = float(data[3]) \n",
        "        data[4] = data[4].rstrip() \n",
        "\n",
        "for data in data_list:\n",
        "    print(data)"
      ],
      "execution_count": null,
      "outputs": [
        {
          "output_type": "stream",
          "text": [
            "[5.1, 3.5, 1.4, 0.2, 'Iris-setosa']\n",
            "[4.9, 3.0, 1.4, 0.2, 'Iris-setosa']\n",
            "[4.7, 3.2, 1.3, 0.2, 'Iris-setosa']\n",
            "[4.6, 3.1, 1.5, 0.2, 'Iris-setosa']\n",
            "[5.0, 3.6, 1.4, 0.2, 'Iris-setosa']\n",
            "[5.4, 3.9, 1.7, 0.4, 'Iris-setosa']\n",
            "[4.6, 3.4, 1.4, 0.3, 'Iris-setosa']\n",
            "[5.0, 3.4, 1.5, 0.2, 'Iris-setosa']\n",
            "[4.4, 2.9, 1.4, 0.2, 'Iris-setosa']\n",
            "[4.9, 3.1, 1.5, 0.1, 'Iris-setosa']\n",
            "[5.4, 3.7, 1.5, 0.2, 'Iris-setosa']\n",
            "[4.8, 3.4, 1.6, 0.2, 'Iris-setosa']\n",
            "[4.8, 3.0, 1.4, 0.1, 'Iris-setosa']\n",
            "[4.3, 3.0, 1.1, 0.1, 'Iris-setosa']\n",
            "[5.8, 4.0, 1.2, 0.2, 'Iris-setosa']\n",
            "[5.7, 4.4, 1.5, 0.4, 'Iris-setosa']\n",
            "[5.4, 3.9, 1.3, 0.4, 'Iris-setosa']\n",
            "[5.1, 3.5, 1.4, 0.3, 'Iris-setosa']\n",
            "[5.7, 3.8, 1.7, 0.3, 'Iris-setosa']\n",
            "[5.1, 3.8, 1.5, 0.3, 'Iris-setosa']\n",
            "[5.4, 3.4, 1.7, 0.2, 'Iris-setosa']\n",
            "[5.1, 3.7, 1.5, 0.4, 'Iris-setosa']\n",
            "[4.6, 3.6, 1.0, 0.2, 'Iris-setosa']\n",
            "[5.1, 3.3, 1.7, 0.5, 'Iris-setosa']\n",
            "[4.8, 3.4, 1.9, 0.2, 'Iris-setosa']\n",
            "[5.0, 3.0, 1.6, 0.2, 'Iris-setosa']\n",
            "[5.0, 3.4, 1.6, 0.4, 'Iris-setosa']\n",
            "[5.2, 3.5, 1.5, 0.2, 'Iris-setosa']\n",
            "[5.2, 3.4, 1.4, 0.2, 'Iris-setosa']\n",
            "[4.7, 3.2, 1.6, 0.2, 'Iris-setosa']\n",
            "[4.8, 3.1, 1.6, 0.2, 'Iris-setosa']\n",
            "[5.4, 3.4, 1.5, 0.4, 'Iris-setosa']\n",
            "[5.2, 4.1, 1.5, 0.1, 'Iris-setosa']\n",
            "[5.5, 4.2, 1.4, 0.2, 'Iris-setosa']\n",
            "[4.9, 3.1, 1.5, 0.1, 'Iris-setosa']\n",
            "[5.0, 3.2, 1.2, 0.2, 'Iris-setosa']\n",
            "[5.5, 3.5, 1.3, 0.2, 'Iris-setosa']\n",
            "[4.9, 3.1, 1.5, 0.1, 'Iris-setosa']\n",
            "[4.4, 3.0, 1.3, 0.2, 'Iris-setosa']\n",
            "[5.1, 3.4, 1.5, 0.2, 'Iris-setosa']\n",
            "[5.0, 3.5, 1.3, 0.3, 'Iris-setosa']\n",
            "[4.5, 2.3, 1.3, 0.3, 'Iris-setosa']\n",
            "[4.4, 3.2, 1.3, 0.2, 'Iris-setosa']\n",
            "[5.0, 3.5, 1.6, 0.6, 'Iris-setosa']\n",
            "[5.1, 3.8, 1.9, 0.4, 'Iris-setosa']\n",
            "[4.8, 3.0, 1.4, 0.3, 'Iris-setosa']\n",
            "[5.1, 3.8, 1.6, 0.2, 'Iris-setosa']\n",
            "[4.6, 3.2, 1.4, 0.2, 'Iris-setosa']\n",
            "[5.3, 3.7, 1.5, 0.2, 'Iris-setosa']\n",
            "[5.0, 3.3, 1.4, 0.2, 'Iris-setosa']\n",
            "[7.0, 3.2, 4.7, 1.4, 'Iris-versicolor']\n",
            "[6.4, 3.2, 4.5, 1.5, 'Iris-versicolor']\n",
            "[6.9, 3.1, 4.9, 1.5, 'Iris-versicolor']\n",
            "[5.5, 2.3, 4.0, 1.3, 'Iris-versicolor']\n",
            "[6.5, 2.8, 4.6, 1.5, 'Iris-versicolor']\n",
            "[5.7, 2.8, 4.5, 1.3, 'Iris-versicolor']\n",
            "[6.3, 3.3, 4.7, 1.6, 'Iris-versicolor']\n",
            "[4.9, 2.4, 3.3, 1.0, 'Iris-versicolor']\n",
            "[6.6, 2.9, 4.6, 1.3, 'Iris-versicolor']\n",
            "[5.2, 2.7, 3.9, 1.4, 'Iris-versicolor']\n",
            "[5.0, 2.0, 3.5, 1.0, 'Iris-versicolor']\n",
            "[5.9, 3.0, 4.2, 1.5, 'Iris-versicolor']\n",
            "[6.0, 2.2, 4.0, 1.0, 'Iris-versicolor']\n",
            "[6.1, 2.9, 4.7, 1.4, 'Iris-versicolor']\n",
            "[5.6, 2.9, 3.6, 1.3, 'Iris-versicolor']\n",
            "[6.7, 3.1, 4.4, 1.4, 'Iris-versicolor']\n",
            "[5.6, 3.0, 4.5, 1.5, 'Iris-versicolor']\n",
            "[5.8, 2.7, 4.1, 1.0, 'Iris-versicolor']\n",
            "[6.2, 2.2, 4.5, 1.5, 'Iris-versicolor']\n",
            "[5.6, 2.5, 3.9, 1.1, 'Iris-versicolor']\n",
            "[5.9, 3.2, 4.8, 1.8, 'Iris-versicolor']\n",
            "[6.1, 2.8, 4.0, 1.3, 'Iris-versicolor']\n",
            "[6.3, 2.5, 4.9, 1.5, 'Iris-versicolor']\n",
            "[6.1, 2.8, 4.7, 1.2, 'Iris-versicolor']\n",
            "[6.4, 2.9, 4.3, 1.3, 'Iris-versicolor']\n",
            "[6.6, 3.0, 4.4, 1.4, 'Iris-versicolor']\n",
            "[6.8, 2.8, 4.8, 1.4, 'Iris-versicolor']\n",
            "[6.7, 3.0, 5.0, 1.7, 'Iris-versicolor']\n",
            "[6.0, 2.9, 4.5, 1.5, 'Iris-versicolor']\n",
            "[5.7, 2.6, 3.5, 1.0, 'Iris-versicolor']\n",
            "[5.5, 2.4, 3.8, 1.1, 'Iris-versicolor']\n",
            "[5.5, 2.4, 3.7, 1.0, 'Iris-versicolor']\n",
            "[5.8, 2.7, 3.9, 1.2, 'Iris-versicolor']\n",
            "[6.0, 2.7, 5.1, 1.6, 'Iris-versicolor']\n",
            "[5.4, 3.0, 4.5, 1.5, 'Iris-versicolor']\n",
            "[6.0, 3.4, 4.5, 1.6, 'Iris-versicolor']\n",
            "[6.7, 3.1, 4.7, 1.5, 'Iris-versicolor']\n",
            "[6.3, 2.3, 4.4, 1.3, 'Iris-versicolor']\n",
            "[5.6, 3.0, 4.1, 1.3, 'Iris-versicolor']\n",
            "[5.5, 2.5, 4.0, 1.3, 'Iris-versicolor']\n",
            "[5.5, 2.6, 4.4, 1.2, 'Iris-versicolor']\n",
            "[6.1, 3.0, 4.6, 1.4, 'Iris-versicolor']\n",
            "[5.8, 2.6, 4.0, 1.2, 'Iris-versicolor']\n",
            "[5.0, 2.3, 3.3, 1.0, 'Iris-versicolor']\n",
            "[5.6, 2.7, 4.2, 1.3, 'Iris-versicolor']\n",
            "[5.7, 3.0, 4.2, 1.2, 'Iris-versicolor']\n",
            "[5.7, 2.9, 4.2, 1.3, 'Iris-versicolor']\n",
            "[6.2, 2.9, 4.3, 1.3, 'Iris-versicolor']\n",
            "[5.1, 2.5, 3.0, 1.1, 'Iris-versicolor']\n",
            "[5.7, 2.8, 4.1, 1.3, 'Iris-versicolor']\n",
            "[6.3, 3.3, 6.0, 2.5, 'Iris-virginica']\n",
            "[5.8, 2.7, 5.1, 1.9, 'Iris-virginica']\n",
            "[7.1, 3.0, 5.9, 2.1, 'Iris-virginica']\n",
            "[6.3, 2.9, 5.6, 1.8, 'Iris-virginica']\n",
            "[6.5, 3.0, 5.8, 2.2, 'Iris-virginica']\n",
            "[7.6, 3.0, 6.6, 2.1, 'Iris-virginica']\n",
            "[4.9, 2.5, 4.5, 1.7, 'Iris-virginica']\n",
            "[7.3, 2.9, 6.3, 1.8, 'Iris-virginica']\n",
            "[6.7, 2.5, 5.8, 1.8, 'Iris-virginica']\n",
            "[7.2, 3.6, 6.1, 2.5, 'Iris-virginica']\n",
            "[6.5, 3.2, 5.1, 2.0, 'Iris-virginica']\n",
            "[6.4, 2.7, 5.3, 1.9, 'Iris-virginica']\n",
            "[6.8, 3.0, 5.5, 2.1, 'Iris-virginica']\n",
            "[5.7, 2.5, 5.0, 2.0, 'Iris-virginica']\n",
            "[5.8, 2.8, 5.1, 2.4, 'Iris-virginica']\n",
            "[6.4, 3.2, 5.3, 2.3, 'Iris-virginica']\n",
            "[6.5, 3.0, 5.5, 1.8, 'Iris-virginica']\n",
            "[7.7, 3.8, 6.7, 2.2, 'Iris-virginica']\n",
            "[7.7, 2.6, 6.9, 2.3, 'Iris-virginica']\n",
            "[6.0, 2.2, 5.0, 1.5, 'Iris-virginica']\n",
            "[6.9, 3.2, 5.7, 2.3, 'Iris-virginica']\n",
            "[5.6, 2.8, 4.9, 2.0, 'Iris-virginica']\n",
            "[7.7, 2.8, 6.7, 2.0, 'Iris-virginica']\n",
            "[6.3, 2.7, 4.9, 1.8, 'Iris-virginica']\n",
            "[6.7, 3.3, 5.7, 2.1, 'Iris-virginica']\n",
            "[7.2, 3.2, 6.0, 1.8, 'Iris-virginica']\n",
            "[6.2, 2.8, 4.8, 1.8, 'Iris-virginica']\n",
            "[6.1, 3.0, 4.9, 1.8, 'Iris-virginica']\n",
            "[6.4, 2.8, 5.6, 2.1, 'Iris-virginica']\n",
            "[7.2, 3.0, 5.8, 1.6, 'Iris-virginica']\n",
            "[7.4, 2.8, 6.1, 1.9, 'Iris-virginica']\n",
            "[7.9, 3.8, 6.4, 2.0, 'Iris-virginica']\n",
            "[6.4, 2.8, 5.6, 2.2, 'Iris-virginica']\n",
            "[6.3, 2.8, 5.1, 1.5, 'Iris-virginica']\n",
            "[6.1, 2.6, 5.6, 1.4, 'Iris-virginica']\n",
            "[7.7, 3.0, 6.1, 2.3, 'Iris-virginica']\n",
            "[6.3, 3.4, 5.6, 2.4, 'Iris-virginica']\n",
            "[6.4, 3.1, 5.5, 1.8, 'Iris-virginica']\n",
            "[6.0, 3.0, 4.8, 1.8, 'Iris-virginica']\n",
            "[6.9, 3.1, 5.4, 2.1, 'Iris-virginica']\n",
            "[6.7, 3.1, 5.6, 2.4, 'Iris-virginica']\n",
            "[6.9, 3.1, 5.1, 2.3, 'Iris-virginica']\n",
            "[5.8, 2.7, 5.1, 1.9, 'Iris-virginica']\n",
            "[6.8, 3.2, 5.9, 2.3, 'Iris-virginica']\n",
            "[6.7, 3.3, 5.7, 2.5, 'Iris-virginica']\n",
            "[6.7, 3.0, 5.2, 2.3, 'Iris-virginica']\n",
            "[6.3, 2.5, 5.0, 1.9, 'Iris-virginica']\n",
            "[6.5, 3.0, 5.2, 2.0, 'Iris-virginica']\n",
            "[6.2, 3.4, 5.4, 2.3, 'Iris-virginica']\n",
            "[5.9, 3.0, 5.1, 1.8, 'Iris-virginica']\n"
          ],
          "name": "stdout"
        }
      ]
    },
    {
      "cell_type": "code",
      "metadata": {
        "id": "qhqQDDyybBaA",
        "outputId": "47d3f433-b7bd-4b06-fc35-88fe7595f461",
        "colab": {
          "base_uri": "https://localhost:8080/",
          "height": 218
        }
      },
      "source": [
        "with open('iris-test.csv') as file:\n",
        "    test_data = file.readlines()\n",
        "\n",
        "test_data = [data.split(',') for data in test_data] \n",
        "\n",
        "for data in test_data:\n",
        "    data[0] = float(data[0])\n",
        "    data[1] = float(data[1])\n",
        "    data[2] = float(data[2])\n",
        "    data[3] = data[3].rstrip()\n",
        "    data[3] = float(data[3])\n",
        "\n",
        "for data in test_data:\n",
        "    print(data)"
      ],
      "execution_count": null,
      "outputs": [
        {
          "output_type": "stream",
          "text": [
            "[4.3, 2.9, 1.7, 0.3]\n",
            "[4.6, 2.7, 1.5, 0.2]\n",
            "[5.3, 3.4, 1.6, 0.2]\n",
            "[5.2, 4.1, 1.5, 0.1]\n",
            "[6.0, 2.2, 4.2, 1.0]\n",
            "[6.2, 2.3, 4.5, 1.5]\n",
            "[5.0, 2.1, 3.6, 1.2]\n",
            "[6.6, 2.8, 5.4, 2.0]\n",
            "[6.4, 3.2, 5.3, 2.3]\n",
            "[7.0, 3.1, 5.5, 1.8]\n",
            "[6.2, 3.3, 5.9, 2.1]\n",
            "[6.6, 2.9, 5.3, 2.3]\n"
          ],
          "name": "stdout"
        }
      ]
    },
    {
      "cell_type": "code",
      "metadata": {
        "id": "sBWEcj3NGpSw"
      },
      "source": [
        "def neighborhood(distance, k):\n",
        "    return distance[0:k]\n",
        "def get_class(training_set):\n",
        "    return list(set([c[-1] for c in training_set]))"
      ],
      "execution_count": null,
      "outputs": []
    },
    {
      "cell_type": "code",
      "metadata": {
        "id": "YOy7g7mybQPJ"
      },
      "source": [
        "def find_response(neighbors, classes) :\n",
        "    votes = [0] * len(classes)\n",
        "\n",
        "    for instance in neighbors :\n",
        "        for ctr, i in enumerate(classes) :\n",
        "            if instance[-2] == i :\n",
        "                votes[ctr] += 1\n",
        "    return max(enumerate(votes), key=itemgetter(1))"
      ],
      "execution_count": null,
      "outputs": []
    },
    {
      "cell_type": "code",
      "metadata": {
        "id": "xXD9fxNZbSck"
      },
      "source": [
        "def knn(train_set, test_set, k):\n",
        "    dist = 0\n",
        "    limit = len(train_set[0]) - 1\n",
        "    d = []\n",
        "    classes = get_class(train_set)\n",
        "\n",
        "    for test in test_set:\n",
        "        for row in train_set:\n",
        "            for x, y in zip(row[:limit], test):\n",
        "                dist = dist + (x-y) * (x-y)\n",
        "            d.append(row + [sqrt(dist)])\n",
        "            dist = 0\n",
        "\n",
        "        d.sort(key = itemgetter(len(d[0])-1))\n",
        "        neighbors = neighborhood(d, k)\n",
        "        index, value = find_response(neighbors, classes)\n",
        "        print('Prediction of ' + str(test) + ' : ' + classes[index])\n",
        "        d.clear()"
      ],
      "execution_count": null,
      "outputs": []
    },
    {
      "cell_type": "code",
      "metadata": {
        "id": "7ASr1b50bW2N",
        "outputId": "08a96d86-7419-4e70-d1d3-b6a31c85b4a0",
        "colab": {
          "base_uri": "https://localhost:8080/",
          "height": 218
        }
      },
      "source": [
        "k = 5\n",
        "knn(data_list, test_data, k)"
      ],
      "execution_count": null,
      "outputs": [
        {
          "output_type": "stream",
          "text": [
            "Prediction of [4.3, 2.9, 1.7, 0.3] : Iris-setosa\n",
            "Prediction of [4.6, 2.7, 1.5, 0.2] : Iris-setosa\n",
            "Prediction of [5.3, 3.4, 1.6, 0.2] : Iris-setosa\n",
            "Prediction of [5.2, 4.1, 1.5, 0.1] : Iris-setosa\n",
            "Prediction of [6.0, 2.2, 4.2, 1.0] : Iris-versicolor\n",
            "Prediction of [6.2, 2.3, 4.5, 1.5] : Iris-versicolor\n",
            "Prediction of [5.0, 2.1, 3.6, 1.2] : Iris-versicolor\n",
            "Prediction of [6.6, 2.8, 5.4, 2.0] : Iris-virginica\n",
            "Prediction of [6.4, 3.2, 5.3, 2.3] : Iris-virginica\n",
            "Prediction of [7.0, 3.1, 5.5, 1.8] : Iris-virginica\n",
            "Prediction of [6.2, 3.3, 5.9, 2.1] : Iris-virginica\n",
            "Prediction of [6.6, 2.9, 5.3, 2.3] : Iris-virginica\n"
          ],
          "name": "stdout"
        }
      ]
    },
    {
      "cell_type": "code",
      "metadata": {
        "id": "K6je1s7UHrwR",
        "outputId": "0842c460-be92-4ea8-e637-99313e6a1221",
        "colab": {
          "base_uri": "https://localhost:8080/",
          "height": 218
        }
      },
      "source": [
        "k = 10\n",
        "knn(data_list, test_data, k)"
      ],
      "execution_count": null,
      "outputs": [
        {
          "output_type": "stream",
          "text": [
            "Prediction of [4.3, 2.9, 1.7, 0.3] : Iris-setosa\n",
            "Prediction of [4.6, 2.7, 1.5, 0.2] : Iris-setosa\n",
            "Prediction of [5.3, 3.4, 1.6, 0.2] : Iris-setosa\n",
            "Prediction of [5.2, 4.1, 1.5, 0.1] : Iris-setosa\n",
            "Prediction of [6.0, 2.2, 4.2, 1.0] : Iris-versicolor\n",
            "Prediction of [6.2, 2.3, 4.5, 1.5] : Iris-versicolor\n",
            "Prediction of [5.0, 2.1, 3.6, 1.2] : Iris-versicolor\n",
            "Prediction of [6.6, 2.8, 5.4, 2.0] : Iris-virginica\n",
            "Prediction of [6.4, 3.2, 5.3, 2.3] : Iris-virginica\n",
            "Prediction of [7.0, 3.1, 5.5, 1.8] : Iris-virginica\n",
            "Prediction of [6.2, 3.3, 5.9, 2.1] : Iris-virginica\n",
            "Prediction of [6.6, 2.9, 5.3, 2.3] : Iris-virginica\n"
          ],
          "name": "stdout"
        }
      ]
    }
  ]
}