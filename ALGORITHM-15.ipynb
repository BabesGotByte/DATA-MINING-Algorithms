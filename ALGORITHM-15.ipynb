{
  "nbformat": 4,
  "nbformat_minor": 0,
  "metadata": {
    "colab": {
      "name": "ALGORITHM-15.ipynb",
      "provenance": [],
      "collapsed_sections": []
    },
    "kernelspec": {
      "name": "python3",
      "display_name": "Python 3"
    }
  },
  "cells": [
    {
      "cell_type": "code",
      "metadata": {
        "id": "lbwqTncUSjwB"
      },
      "source": [
        "from heapq import heapify, heappop, heappush, heappushpop\n",
        "from sklearn.utils import check_array, gen_batches, get_chunk_n_rows\n",
        "from sklearn.utils.validation import check_memory\n",
        "from sklearn.cluster import _hierarchical_fast as _hierarchical\n",
        "import pandas as pd\n",
        "import matplotlib.pyplot as plt\n",
        "import numpy as np\n",
        "import scipy.cluster.hierarchy as sch\n",
        "from sklearn.neighbors import NearestNeighbors\n",
        "from sklearn.cluster import OPTICS"
      ],
      "execution_count": null,
      "outputs": []
    },
    {
      "cell_type": "markdown",
      "metadata": {
        "id": "h234n2v5XQe8"
      },
      "source": [
        "## Data"
      ]
    },
    {
      "cell_type": "code",
      "metadata": {
        "id": "LnST8jaPKohh",
        "outputId": "b87ab546-9ea8-48ec-d4fd-bdaf61fa015a",
        "colab": {
          "base_uri": "https://localhost:8080/",
          "height": 198
        }
      },
      "source": [
        "data = pd.read_excel('data1.xlsx')\n",
        "data.head()"
      ],
      "execution_count": null,
      "outputs": [
        {
          "output_type": "execute_result",
          "data": {
            "text/html": [
              "<div>\n",
              "<style scoped>\n",
              "    .dataframe tbody tr th:only-of-type {\n",
              "        vertical-align: middle;\n",
              "    }\n",
              "\n",
              "    .dataframe tbody tr th {\n",
              "        vertical-align: top;\n",
              "    }\n",
              "\n",
              "    .dataframe thead th {\n",
              "        text-align: right;\n",
              "    }\n",
              "</style>\n",
              "<table border=\"1\" class=\"dataframe\">\n",
              "  <thead>\n",
              "    <tr style=\"text-align: right;\">\n",
              "      <th></th>\n",
              "      <th>x</th>\n",
              "      <th>y</th>\n",
              "      <th>label</th>\n",
              "    </tr>\n",
              "  </thead>\n",
              "  <tbody>\n",
              "    <tr>\n",
              "      <th>0</th>\n",
              "      <td>8.401169</td>\n",
              "      <td>6.176239</td>\n",
              "      <td>-1</td>\n",
              "    </tr>\n",
              "    <tr>\n",
              "      <th>1</th>\n",
              "      <td>6.251134</td>\n",
              "      <td>7.913023</td>\n",
              "      <td>-1</td>\n",
              "    </tr>\n",
              "    <tr>\n",
              "      <th>2</th>\n",
              "      <td>8.268641</td>\n",
              "      <td>5.676593</td>\n",
              "      <td>-1</td>\n",
              "    </tr>\n",
              "    <tr>\n",
              "      <th>3</th>\n",
              "      <td>7.791409</td>\n",
              "      <td>6.145519</td>\n",
              "      <td>-1</td>\n",
              "    </tr>\n",
              "    <tr>\n",
              "      <th>4</th>\n",
              "      <td>5.591513</td>\n",
              "      <td>5.659804</td>\n",
              "      <td>-1</td>\n",
              "    </tr>\n",
              "  </tbody>\n",
              "</table>\n",
              "</div>"
            ],
            "text/plain": [
              "          x         y  label\n",
              "0  8.401169  6.176239     -1\n",
              "1  6.251134  7.913023     -1\n",
              "2  8.268641  5.676593     -1\n",
              "3  7.791409  6.145519     -1\n",
              "4  5.591513  5.659804     -1"
            ]
          },
          "metadata": {
            "tags": []
          },
          "execution_count": 45
        }
      ]
    },
    {
      "cell_type": "code",
      "metadata": {
        "id": "8yKRiiE0N1P5",
        "outputId": "32231b15-dbf9-4012-8790-327c12e52bfd",
        "colab": {
          "base_uri": "https://localhost:8080/",
          "height": 198
        }
      },
      "source": [
        "data2 = pd.read_excel('data2.xlsx', names=['x', 'y'])\n",
        "data2.head()"
      ],
      "execution_count": null,
      "outputs": [
        {
          "output_type": "execute_result",
          "data": {
            "text/html": [
              "<div>\n",
              "<style scoped>\n",
              "    .dataframe tbody tr th:only-of-type {\n",
              "        vertical-align: middle;\n",
              "    }\n",
              "\n",
              "    .dataframe tbody tr th {\n",
              "        vertical-align: top;\n",
              "    }\n",
              "\n",
              "    .dataframe thead th {\n",
              "        text-align: right;\n",
              "    }\n",
              "</style>\n",
              "<table border=\"1\" class=\"dataframe\">\n",
              "  <thead>\n",
              "    <tr style=\"text-align: right;\">\n",
              "      <th></th>\n",
              "      <th>x</th>\n",
              "      <th>y</th>\n",
              "    </tr>\n",
              "  </thead>\n",
              "  <tbody>\n",
              "    <tr>\n",
              "      <th>0</th>\n",
              "      <td>7.7691</td>\n",
              "      <td>-0.91615</td>\n",
              "    </tr>\n",
              "    <tr>\n",
              "      <th>1</th>\n",
              "      <td>10.0190</td>\n",
              "      <td>-1.02840</td>\n",
              "    </tr>\n",
              "    <tr>\n",
              "      <th>2</th>\n",
              "      <td>11.0150</td>\n",
              "      <td>-0.71668</td>\n",
              "    </tr>\n",
              "    <tr>\n",
              "      <th>3</th>\n",
              "      <td>4.1656</td>\n",
              "      <td>-1.95480</td>\n",
              "    </tr>\n",
              "    <tr>\n",
              "      <th>4</th>\n",
              "      <td>7.8704</td>\n",
              "      <td>-1.34240</td>\n",
              "    </tr>\n",
              "  </tbody>\n",
              "</table>\n",
              "</div>"
            ],
            "text/plain": [
              "         x        y\n",
              "0   7.7691 -0.91615\n",
              "1  10.0190 -1.02840\n",
              "2  11.0150 -0.71668\n",
              "3   4.1656 -1.95480\n",
              "4   7.8704 -1.34240"
            ]
          },
          "metadata": {
            "tags": []
          },
          "execution_count": 46
        }
      ]
    },
    {
      "cell_type": "markdown",
      "metadata": {
        "id": "VT6yflhbXoNH"
      },
      "source": [
        "## Parameters"
      ]
    },
    {
      "cell_type": "code",
      "metadata": {
        "id": "U7YcPmfHXr6L"
      },
      "source": [
        "eps = 0.02\n",
        "minPts = 100"
      ],
      "execution_count": null,
      "outputs": []
    },
    {
      "cell_type": "markdown",
      "metadata": {
        "id": "ekahlJQkYKw7"
      },
      "source": [
        "## Model"
      ]
    },
    {
      "cell_type": "code",
      "metadata": {
        "id": "3_KsWoqQTDQo",
        "outputId": "58c18fff-346d-4a99-f498-0f6b5f0f7ad6",
        "colab": {
          "base_uri": "https://localhost:8080/",
          "height": 88
        }
      },
      "source": [
        "# minPts can't be 500 since number of points in dataset is 350\n",
        "op = OPTICS(min_cluster_size=minPts, eps=eps)\n",
        "op.fit(data)"
      ],
      "execution_count": null,
      "outputs": [
        {
          "output_type": "execute_result",
          "data": {
            "text/plain": [
              "OPTICS(algorithm='auto', cluster_method='xi', eps=0.02, leaf_size=30,\n",
              "       max_eps=inf, metric='minkowski', metric_params=None,\n",
              "       min_cluster_size=100, min_samples=5, n_jobs=None, p=2,\n",
              "       predecessor_correction=True, xi=0.05)"
            ]
          },
          "metadata": {
            "tags": []
          },
          "execution_count": 88
        }
      ]
    },
    {
      "cell_type": "code",
      "metadata": {
        "id": "H3sfRLcDTsyE",
        "outputId": "6e12250b-7133-4883-bc75-55de9dd70a77",
        "colab": {
          "base_uri": "https://localhost:8080/",
          "height": 1000
        }
      },
      "source": [
        "# Reachability distances\n",
        "op.reachability_"
      ],
      "execution_count": null,
      "outputs": [
        {
          "output_type": "execute_result",
          "data": {
            "text/plain": [
              "array([       inf, 0.30717465, 0.27768197, 0.28791378, 0.35441471,\n",
              "       0.27146557, 0.30414286, 0.32343299, 0.30919248, 0.30284108,\n",
              "       0.23529712, 0.24898985, 0.35679133, 0.31066867, 0.38188841,\n",
              "       0.2166006 , 0.42491405, 0.36666264, 0.3368869 , 0.29743119,\n",
              "       0.40232605, 0.42835516, 0.35763231, 0.47657043, 0.28227363,\n",
              "       0.30850891, 0.32210632, 0.30847724, 0.29250129, 0.27768197,\n",
              "       0.28093952, 0.31617155, 0.2289146 , 0.38439487, 0.27019411,\n",
              "       0.32091275, 0.32912602, 0.36506075, 0.44339224, 0.35247833,\n",
              "       0.41848845, 0.35226375, 0.42491405, 0.2984491 , 0.29743119,\n",
              "       0.33097638, 0.23646755, 0.41824765, 0.36060765, 0.38820647,\n",
              "       0.43671066, 0.27854558, 0.32163449, 0.27846842, 0.39431381,\n",
              "       0.46104424, 0.27513323, 0.36781622, 0.27823878, 0.39807273,\n",
              "       0.39569928, 0.32405301, 0.36398577, 0.26390989, 0.35424552,\n",
              "       0.31728148, 0.25898071, 0.38323938, 0.41617483, 0.39804911,\n",
              "       0.29590898, 0.44339224, 0.3815977 , 0.28603373, 0.43261744,\n",
              "       0.71506554, 0.39336536, 0.27846842, 0.44963502, 0.3408583 ,\n",
              "       0.3408583 , 0.3047339 , 0.40621078, 0.33780132, 0.31361893,\n",
              "       0.444599  , 0.3408583 , 0.31211399, 0.36347603, 0.36719702,\n",
              "       0.25898071, 0.35010711, 0.36737372, 0.29378448, 0.33530612,\n",
              "       0.36398577, 0.51455543, 0.27474901, 0.249108  , 0.19697488,\n",
              "       0.444599  , 0.27854558, 0.43631259, 0.26390989, 0.44588248,\n",
              "       0.42491405, 0.28477311, 0.41713808, 0.43403042, 2.62195719,\n",
              "       0.28603373, 0.45426711, 0.22675144, 0.38188841, 0.26962073,\n",
              "       0.44963502, 0.25783515, 0.39386773, 0.35424552, 0.3915092 ,\n",
              "       0.26390989, 0.52892945, 0.26962073, 0.37039434, 0.36506075,\n",
              "       0.43631259, 0.36398577, 0.41713808, 0.3366044 , 0.33530612,\n",
              "       0.36427417, 0.43153052, 0.36506075, 0.29743119, 0.26390989,\n",
              "       0.30104279, 0.45337237, 0.38176731, 0.46603361, 0.3815977 ,\n",
              "       0.38176731, 0.35010711, 0.27841599, 0.44339224, 0.71506554,\n",
              "       0.29883262, 0.43631259, 0.43671066, 0.28603373, 0.29963657,\n",
              "       0.33329453, 0.54084719, 0.30878322, 0.3408583 , 0.54084719,\n",
              "       0.25783515, 0.2166006 , 0.36060765, 0.37211488, 0.36347603,\n",
              "       0.38998227, 0.38176731, 0.31250504, 0.34484081, 0.29378448,\n",
              "       0.28477311, 0.28603373, 0.50463575, 0.3984045 , 0.4311548 ,\n",
              "       0.39878236, 0.21571981, 0.34163385, 0.36506075, 0.3815977 ,\n",
              "       0.21571981, 0.31211399, 0.2166006 , 0.38998227, 0.25783515,\n",
              "       0.27823878, 0.25898071, 0.19697488, 0.39110611, 0.32557344,\n",
              "       0.2712317 , 0.28603373, 0.26813598, 0.30575207, 0.32557344,\n",
              "       0.33011409, 0.42491405, 0.25114391, 0.34163385, 0.2712317 ,\n",
              "       0.36060765, 0.26813598, 0.3366044 , 0.2712317 , 0.26604024,\n",
              "       0.29883262, 0.36506075, 0.30575207, 0.25663294, 0.43631259,\n",
              "       0.46204355, 0.60554653, 0.44339224, 0.33780132, 0.35079518,\n",
              "       0.35226375, 0.57174078, 0.38176731, 0.41824765, 0.35424552,\n",
              "       0.44963502, 0.26604024, 0.35247833, 0.35763231, 0.34704111,\n",
              "       0.32499433, 0.20972526, 0.42268536, 0.4423794 , 0.31381699,\n",
              "       0.30625916, 0.20727814, 0.23767885, 0.27506926, 0.20253711,\n",
              "       0.23573007, 0.34005041, 0.35679133, 0.28975181, 0.2118864 ,\n",
              "       0.23446697, 0.23703136, 0.22653138, 0.21555812, 0.23573007,\n",
              "       0.33135211, 0.27971319, 0.35679133, 0.27971319, 0.20253711,\n",
              "       0.33679286, 0.30847724, 0.20000772, 0.32499433, 0.36027377,\n",
              "       0.21555812, 0.38439487, 0.28791378, 0.34704111, 0.43048685,\n",
              "       0.29272553, 0.43655885, 0.23573007, 0.29272553, 0.27260498,\n",
              "       0.34034384, 0.33583186, 0.33248829, 0.24898985, 0.37377525,\n",
              "       0.31617155, 0.28684598, 0.28227363, 0.28335358, 0.34704111,\n",
              "       0.27325355, 0.30625916, 0.29541118, 0.22232856, 0.20809273,\n",
              "       0.29690647, 0.29864617, 0.25433422, 0.20000772, 0.28227363,\n",
              "       0.33248829, 0.40108129, 0.17390376, 0.20000772, 0.33550401,\n",
              "       0.27768197, 0.20727814, 0.22350703, 0.42937679, 0.36810613,\n",
              "       0.35679133, 0.25290997, 0.22232856, 0.30414286, 0.30584111,\n",
              "       0.30584111, 0.36027377, 0.17390376, 0.20727814, 0.35210464,\n",
              "       0.44612357, 0.24220604, 0.27506926, 0.29526365, 0.21555812,\n",
              "       0.20094389, 0.35037769, 0.47657043, 0.29541118, 0.29486469,\n",
              "       0.35210464, 0.29541118, 0.25433422, 0.40108129, 0.23703136,\n",
              "       0.29541118, 0.22232856, 0.17390376, 0.22350703, 0.17390376,\n",
              "       0.24220604, 0.35441471, 0.35210464, 0.22232856, 0.32343299,\n",
              "       0.23835807, 0.36810613, 0.28227363, 0.21307501, 0.35210464,\n",
              "       0.38703494, 0.29272553, 0.30284108, 0.34034384, 0.31617155,\n",
              "       0.39083181, 0.25290997, 0.35035261, 0.21307501, 0.31728148,\n",
              "       0.34163385, 0.29590898, 0.48829107, 0.19697488, 0.25663294,\n",
              "       0.35010711, 0.45426711, 0.3366044 , 0.40322078, 0.45092971])"
            ]
          },
          "metadata": {
            "tags": []
          },
          "execution_count": 89
        }
      ]
    },
    {
      "cell_type": "code",
      "metadata": {
        "id": "jpxN-eoBVwgy",
        "outputId": "53001671-7423-42bc-e0ff-c1aa06864808",
        "colab": {
          "base_uri": "https://localhost:8080/",
          "height": 303
        }
      },
      "source": [
        "## Predictions\n",
        "op.labels_"
      ],
      "execution_count": null,
      "outputs": [
        {
          "output_type": "execute_result",
          "data": {
            "text/plain": [
              "array([0, 0, 0, 0, 0, 0, 0, 0, 0, 0, 0, 0, 0, 0, 1, 1, 1, 1, 1, 1, 1, 1,\n",
              "       0, 0, 0, 0, 0, 0, 0, 0, 0, 0, 0, 0, 0, 0, 0, 1, 1, 1, 1, 1, 1, 1,\n",
              "       1, 1, 1, 1, 1, 1, 1, 1, 1, 1, 1, 1, 1, 1, 1, 1, 1, 1, 1, 1, 1, 1,\n",
              "       1, 1, 1, 1, 1, 1, 1, 1, 1, 1, 1, 1, 1, 1, 1, 1, 1, 1, 1, 1, 1, 1,\n",
              "       1, 1, 1, 1, 1, 1, 1, 1, 1, 1, 1, 1, 1, 1, 1, 1, 1, 1, 1, 1, 1, 1,\n",
              "       1, 1, 1, 1, 1, 1, 1, 1, 1, 1, 1, 1, 1, 1, 1, 1, 1, 1, 1, 1, 1, 1,\n",
              "       1, 1, 1, 1, 1, 1, 1, 1, 1, 1, 1, 1, 1, 1, 1, 1, 1, 1, 1, 1, 1, 1,\n",
              "       1, 1, 1, 1, 1, 1, 1, 1, 1, 1, 1, 1, 1, 1, 1, 1, 1, 1, 1, 1, 1, 1,\n",
              "       1, 1, 1, 1, 1, 1, 1, 1, 1, 1, 1, 1, 1, 1, 1, 1, 1, 1, 1, 1, 1, 1,\n",
              "       1, 1, 1, 1, 1, 1, 1, 1, 1, 1, 1, 1, 1, 1, 1, 1, 1, 1, 1, 1, 0, 0,\n",
              "       0, 0, 0, 0, 0, 0, 0, 0, 0, 0, 0, 0, 0, 0, 0, 0, 0, 0, 0, 0, 0, 0,\n",
              "       0, 0, 0, 0, 0, 0, 0, 0, 0, 0, 0, 0, 0, 0, 0, 0, 0, 0, 0, 0, 0, 0,\n",
              "       0, 0, 0, 0, 0, 0, 0, 0, 0, 0, 0, 0, 0, 0, 0, 0, 0, 0, 0, 0, 0, 0,\n",
              "       0, 0, 0, 0, 0, 0, 0, 0, 0, 0, 0, 0, 0, 0, 0, 0, 0, 0, 0, 0, 0, 0,\n",
              "       0, 0, 0, 0, 0, 0, 0, 0, 0, 0, 0, 0, 0, 0, 0, 0, 0, 0, 0, 0, 0, 0,\n",
              "       0, 0, 0, 0, 0, 0, 0, 0, 0, 1, 1, 1, 1, 1, 1, 1, 1, 1, 1, 1])"
            ]
          },
          "metadata": {
            "tags": []
          },
          "execution_count": 90
        }
      ]
    },
    {
      "cell_type": "code",
      "metadata": {
        "id": "jHph1oerZfRi",
        "outputId": "fbd2e6c2-1b35-4525-dbfd-9c68203b30be",
        "colab": {
          "base_uri": "https://localhost:8080/",
          "height": 265
        }
      },
      "source": [
        "plt.scatter(data['x'], data['y'], c=op.labels_)\n",
        "plt.show()"
      ],
      "execution_count": null,
      "outputs": [
        {
          "output_type": "display_data",
          "data": {
            "image/png": "[encoded data removed]",
            "text/plain": [
              "<Figure size 432x288 with 1 Axes>"
            ]
          },
          "metadata": {
            "tags": [],
            "needs_background": "light"
          }
        }
      ]
    },
    {
      "cell_type": "markdown",
      "metadata": {
        "id": "SHXfV9KbYrI-"
      },
      "source": [
        "## Q2"
      ]
    },
    {
      "cell_type": "code",
      "metadata": {
        "id": "cA1shKlwY4OV",
        "outputId": "c3665054-7f91-4792-a731-e7aa358b1241",
        "colab": {
          "base_uri": "https://localhost:8080/",
          "height": 88
        }
      },
      "source": [
        "op2 = OPTICS(eps=eps, min_cluster_size=500)\n",
        "op2.fit(data2)"
      ],
      "execution_count": null,
      "outputs": [
        {
          "output_type": "execute_result",
          "data": {
            "text/plain": [
              "OPTICS(algorithm='auto', cluster_method='xi', eps=0.02, leaf_size=30,\n",
              "       max_eps=inf, metric='minkowski', metric_params=None,\n",
              "       min_cluster_size=500, min_samples=5, n_jobs=None, p=2,\n",
              "       predecessor_correction=True, xi=0.05)"
            ]
          },
          "metadata": {
            "tags": []
          },
          "execution_count": 84
        }
      ]
    },
    {
      "cell_type": "code",
      "metadata": {
        "id": "uGeTIPWUY5c9",
        "outputId": "9df9ba0d-b52b-47f7-bed1-5cb57901e0b2",
        "colab": {
          "base_uri": "https://localhost:8080/",
          "height": 53
        }
      },
      "source": [
        "op2.reachability_"
      ],
      "execution_count": null,
      "outputs": [
        {
          "output_type": "execute_result",
          "data": {
            "text/plain": [
              "array([       inf, 0.38027687, 0.39737329, ..., 0.4642224 , 0.22860632,\n",
              "       0.33716242])"
            ]
          },
          "metadata": {
            "tags": []
          },
          "execution_count": 85
        }
      ]
    },
    {
      "cell_type": "code",
      "metadata": {
        "id": "GMWkxkJhZBCu",
        "outputId": "69369740-ebd2-4495-8117-f44f12748a50",
        "colab": {
          "base_uri": "https://localhost:8080/",
          "height": 35
        }
      },
      "source": [
        "op2.labels_"
      ],
      "execution_count": null,
      "outputs": [
        {
          "output_type": "execute_result",
          "data": {
            "text/plain": [
              "array([ 0,  0,  0, ..., -1, -1, -1])"
            ]
          },
          "metadata": {
            "tags": []
          },
          "execution_count": 86
        }
      ]
    },
    {
      "cell_type": "code",
      "metadata": {
        "id": "30q1k2zVZEA2",
        "outputId": "e1d9f26f-45dd-4add-f773-fa491bd86f09",
        "colab": {
          "base_uri": "https://localhost:8080/",
          "height": 265
        }
      },
      "source": [
        "plt.scatter(data2['x'], data2['y'], c=op2.labels_)\n",
        "plt.show()"
      ],
      "execution_count": null,
      "outputs": [
        {
          "output_type": "display_data",
          "data": {
            "image/png": "[encoded data removed]",
            "text/plain": [
              "<Figure size 432x288 with 1 Axes>"
            ]
          },
          "metadata": {
            "tags": [],
            "needs_background": "light"
          }
        }
      ]
    },
    {
      "cell_type": "code",
      "metadata": {
        "id": "TNqV1zMCZJn8"
      },
      "source": [
        ""
      ],
      "execution_count": null,
      "outputs": []
    }
  ]
}