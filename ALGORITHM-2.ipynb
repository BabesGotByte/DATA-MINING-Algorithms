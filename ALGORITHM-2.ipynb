{
  "nbformat": 4,
  "nbformat_minor": 0,
  "metadata": {
    "colab": {
      "name": "ALGORITHM-2.ipynb",
      "provenance": []
    },
    "kernelspec": {
      "name": "python3",
      "display_name": "Python 3"
    }
  },
  "cells": [
    {
      "cell_type": "code",
      "metadata": {
        "id": "qxi_8D1zcQVQ"
      },
      "source": [
        "file = open('retail.dat')\n",
        "file_lines = file.readlines()\n",
        "transactions = []\n",
        "support = 20\n",
        "confidence = .2\n",
        "C = {}\n",
        "for i in file_lines:\n",
        "    transactions.append(i.strip().split())\n",
        "    if len(transactions) == 1000:\n",
        "        break\n",
        "items = set()\n",
        "for i in range(len(transactions)):\n",
        "    for j in range(len(transactions[i])):\n",
        "        items.add(frozenset([transactions[i][j]]))\n",
        "for it in items:\n",
        "    for i in range(len(transactions)):\n",
        "        if it.issubset(transactions[i]):\n",
        "            if it in C:\n",
        "                C[it] += 1\n",
        "            else:\n",
        "                C[it] = 1\n",
        "L = {}\n",
        "for i,j in C.items():\n",
        "    if j >= support:\n",
        "        L[i] = j"
      ],
      "execution_count": 13,
      "outputs": []
    },
    {
      "cell_type": "code",
      "metadata": {
        "id": "I_mJwXBfcigi"
      },
      "source": [
        "def getL(support, items, lent, transactions):\n",
        "    items2 = list(items.keys())\n",
        "    L_set = set()\n",
        "    for i in items2:\n",
        "        for j in items2:\n",
        "            if len(i.union(j)) == lent:\n",
        "                L_set.add(i.union(j))\n",
        "    C = {}\n",
        "    for i in range(len(transactions)):\n",
        "        for it in L_set:\n",
        "            if it.issubset(transactions[i]):\n",
        "                if it in C:\n",
        "                    C[it] += 1\n",
        "                else:\n",
        "                    C[it] = 1\n",
        "    L = {}\n",
        "    for i, j in C.items():\n",
        "        if j >= support:\n",
        "            L[i] = j\n",
        "    return L"
      ],
      "execution_count": 14,
      "outputs": []
    },
    {
      "cell_type": "code",
      "metadata": {
        "id": "YtzQupbCcnCp",
        "outputId": "657d0565-771b-4bfa-cd95-1414f9ce4037",
        "colab": {
          "base_uri": "https://localhost:8080/",
          "height": 54
        }
      },
      "source": [
        "lent = 2\n",
        "TL = {}\n",
        "TL[1] = L\n",
        "while True:\n",
        "    new_L = getL(support, L, lent, transactions)\n",
        "    if len(new_L) == 0:\n",
        "        break\n",
        "    TL[lent] = new_L\n",
        "    L = new_L\n",
        "    lent += 1\n",
        "for i,j in L.items():\n",
        "    print(i, ' ', j, '\\n')"
      ],
      "execution_count": 15,
      "outputs": [
        {
          "output_type": "stream",
          "text": [
            "frozenset({'39', '48', '38', '41'})   41 \n",
            "\n"
          ],
          "name": "stdout"
        }
      ]
    },
    {
      "cell_type": "code",
      "metadata": {
        "id": "kN7RnTVocpTd",
        "outputId": "b28b103f-b780-4fb6-c991-71a824d5bad6",
        "colab": {
          "base_uri": "https://localhost:8080/",
          "height": 345
        }
      },
      "source": [
        "import itertools\n",
        "\n",
        "result = {}\n",
        "for it in L:\n",
        "    ele = it\n",
        "    for i in range(1, len(it)):\n",
        "        for a_set in itertools.combinations(it, i):\n",
        "            b_set = it - frozenset(a_set)\n",
        "            a_set = frozenset(a_set)\n",
        "            con = TL[len(a_set.union(b_set))][a_set.union(b_set)] / TL[len(a_set)][a_set]\n",
        "            if con >= confidence:\n",
        "                result[str(set(a_set)) + '->' + str(set(b_set))] = con\n",
        "                \n",
        "for i,j in result.items():\n",
        "    print(i, ' ', j, '\\n')"
      ],
      "execution_count": 16,
      "outputs": [
        {
          "output_type": "stream",
          "text": [
            "{'39', '38'}->{'41', '48'}   0.2662337662337662 \n",
            "\n",
            "{'41', '39'}->{'38', '48'}   0.2192513368983957 \n",
            "\n",
            "{'38', '48'}->{'41', '39'}   0.36936936936936937 \n",
            "\n",
            "{'41', '48'}->{'39', '38'}   0.3178294573643411 \n",
            "\n",
            "{'41', '38'}->{'39', '48'}   0.47674418604651164 \n",
            "\n",
            "{'39', '48', '38'}->{'41'}   0.5 \n",
            "\n",
            "{'41', '39', '48'}->{'38'}   0.3867924528301887 \n",
            "\n",
            "{'41', '39', '38'}->{'48'}   0.6119402985074627 \n",
            "\n",
            "{'41', '38', '48'}->{'39'}   0.8541666666666666 \n",
            "\n"
          ],
          "name": "stdout"
        }
      ]
    }
  ]
}