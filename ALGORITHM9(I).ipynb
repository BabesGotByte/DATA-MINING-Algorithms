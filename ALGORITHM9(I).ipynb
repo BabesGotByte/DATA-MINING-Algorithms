{
  "nbformat": 4,
  "nbformat_minor": 0,
  "metadata": {
    "colab": {
      "name": "DM_ASSIGN_9(A).ipynb",
      "provenance": []
    },
    "kernelspec": {
      "name": "python3",
      "display_name": "Python 3"
    }
  },
  "cells": [
    {
      "cell_type": "markdown",
      "metadata": {
        "id": "gpEI4QtuTSji"
      },
      "source": [
        "**QUESTION 1**"
      ]
    },
    {
      "cell_type": "code",
      "metadata": {
        "id": "GbiIW9d2TVkt"
      },
      "source": [
        "%matplotlib inline\n",
        "import matplotlib.pyplot as plt\n",
        "from matplotlib import style\n",
        "style.use('ggplot')\n",
        "import numpy as np\n",
        "import pandas as pd"
      ],
      "execution_count": null,
      "outputs": []
    },
    {
      "cell_type": "code",
      "metadata": {
        "id": "QRWi2qofTVuN"
      },
      "source": [
        "class SVM(object):\n",
        "    def __init__(self,visualization=True):\n",
        "        self.visualization = visualization\n",
        "        self.colors = {1:'r',-1:'b'}\n",
        "        if self.visualization:\n",
        "            self.fig = plt.figure()\n",
        "            self.ax = self.fig.add_subplot(1,1,1)\n",
        "    \n",
        "    def fit(self,data):\n",
        "        #train with data\n",
        "        self.data = data\n",
        "        # { |\\w\\|:{w,b}}\n",
        "        opt_dict = {}\n",
        "        \n",
        "        transforms = [[1,1],[-1,1],[-1,-1],[1,-1]]\n",
        "        \n",
        "        all_data = np.array([])\n",
        "        for yi in self.data:\n",
        "            all_data = np.append(all_data,self.data[yi])\n",
        "                    \n",
        "        self.max_feature_value = max(all_data)         \n",
        "        self.min_feature_value = min(all_data)\n",
        "        all_data = None\n",
        "        \n",
        "        step_sizes = [self.max_feature_value * 0.1,\n",
        "                      self.max_feature_value * 0.01,\n",
        "                      self.max_feature_value * 0.001,]\n",
        "        \n",
        "        b_range_multiple = 5\n",
        "        b_multiple = 5\n",
        "        \n",
        "        latest_optimum = self.max_feature_value*10\n",
        "        \n",
        "        \n",
        "        for step in step_sizes:\n",
        "            w = np.array([latest_optimum,latest_optimum])\n",
        "            \n",
        "            optimized = False\n",
        "            while not optimized:\n",
        "                for b in np.arange(-1*self.max_feature_value*b_range_multiple,\n",
        "                                   self.max_feature_value*b_range_multiple,\n",
        "                                   step*b_multiple):\n",
        "                    for transformation in transforms:\n",
        "                        w_t = w*transformation\n",
        "                        found_option = True\n",
        "                        \n",
        "                        for i in self.data:\n",
        "                            for xi in self.data[i]:\n",
        "                                yi=i\n",
        "                                if not yi*(np.dot(w_t,xi)+b)>=1:\n",
        "                                    found_option=False\n",
        "                        if found_option:\n",
        "                            \n",
        "                            opt_dict[np.linalg.norm(w_t)]=[w_t,b]\n",
        "                \n",
        "                if w[0]<0:\n",
        "                    optimized=True\n",
        "                    print(\"optimized a step\")\n",
        "                else:\n",
        "                    w = w-step\n",
        "                    \n",
        "            norms = sorted([n for n in opt_dict])\n",
        "            opt_choice = opt_dict[norms[0]]\n",
        "\n",
        "            self.w=opt_choice[0]\n",
        "            self.b=opt_choice[1]\n",
        "            \n",
        "            latest_optimum = opt_choice[0][0]+step*2\n",
        "    \n",
        "    def predict(self,features):\n",
        "        classification = np.sign(np.dot(np.array(features),self.w)+self.b)\n",
        "        if classification!=0 and self.visualization:\n",
        "            self.ax.scatter(features[0],features[1],s=200,marker='*',c=self.colors[classification])\n",
        "        return (classification,np.dot(np.array(features),self.w)+self.b)\n",
        "    \n",
        "    def visualize(self):\n",
        "        [[self.ax.scatter(x[0],x[1],s=100,c=self.colors[i]) for x in data_dict[i]] for i in data_dict]\n",
        "        \n",
        "        def hyperplane(x,w,b,v):\n",
        "            #returns a x2 value on line when given x1\n",
        "            return (-w[0]*x-b+v)/w[1]\n",
        "       \n",
        "        hyp_x_min= self.min_feature_value*0.9\n",
        "        hyp_x_max = self.max_feature_value*1.1\n",
        "        \n",
        "        pav1 = hyperplane(hyp_x_min,self.w,self.b,1)\n",
        "        pav2 = hyperplane(hyp_x_max,self.w,self.b,1)\n",
        "        self.ax.plot([hyp_x_min,hyp_x_max],[pav1,pav2],'k')\n",
        "        \n",
        "        nav1 = hyperplane(hyp_x_min,self.w,self.b,-1)\n",
        "        nav2 = hyperplane(hyp_x_max,self.w,self.b,-1)\n",
        "        self.ax.plot([hyp_x_min,hyp_x_max],[nav1,nav2],'k')\n",
        "        \n",
        "        db1 = hyperplane(hyp_x_min,self.w,self.b,0)\n",
        "        db2 = hyperplane(hyp_x_max,self.w,self.b,0)\n",
        "        self.ax.plot([hyp_x_min,hyp_x_max],[db1,db2],'y--')"
      ],
      "execution_count": null,
      "outputs": []
    },
    {
      "cell_type": "code",
      "metadata": {
        "id": "d2VlGIb8TVw8",
        "outputId": "0e3983de-9cc1-4fc0-f5a3-d86ef76446db",
        "colab": {
          "base_uri": "https://localhost:8080/",
          "height": 34
        }
      },
      "source": [
        "data_dict = {-1:np.array([[1,7],[2,8],[3,8]]),1:np.array([[5,1],[6,-1],[7,3]])}\n",
        "data_dict[-1][0]"
      ],
      "execution_count": null,
      "outputs": [
        {
          "output_type": "execute_result",
          "data": {
            "text/plain": [
              "array([1, 7])"
            ]
          },
          "metadata": {
            "tags": []
          },
          "execution_count": 6
        }
      ]
    },
    {
      "cell_type": "code",
      "metadata": {
        "id": "TQsglVzUTV3M",
        "outputId": "a35ecfcc-3b46-4935-c75d-9485359a0879",
        "colab": {
          "base_uri": "https://localhost:8080/",
          "height": 315
        }
      },
      "source": [
        "svm = SVM() \n",
        "svm.fit(data=data_dict)\n",
        "svm.visualize()"
      ],
      "execution_count": null,
      "outputs": [
        {
          "output_type": "stream",
          "text": [
            "optimized a step\n",
            "optimized a step\n",
            "optimized a step\n"
          ],
          "name": "stdout"
        },
        {
          "output_type": "display_data",
          "data": {
            "image/png": "[encoded data removed]",
            "text/plain": [
              "<Figure size 432x288 with 1 Axes>"
            ]
          },
          "metadata": {
            "tags": [],
            "needs_background": "light"
          }
        }
      ]
    },
    {
      "cell_type": "code",
      "metadata": {
        "id": "LaDyNMNPTVtI",
        "outputId": "0185ae12-931b-4e9e-988c-de66cc060911",
        "colab": {
          "base_uri": "https://localhost:8080/",
          "height": 34
        }
      },
      "source": [
        "svm.predict([3,8])"
      ],
      "execution_count": null,
      "outputs": [
        {
          "output_type": "execute_result",
          "data": {
            "text/plain": [
              "(-1.0, -1.000000000000098)"
            ]
          },
          "metadata": {
            "tags": []
          },
          "execution_count": 10
        }
      ]
    },
    {
      "cell_type": "code",
      "metadata": {
        "id": "qCu88RCNTpyC"
      },
      "source": [
        "df = pd.read_excel('data.xlsx')\n",
        "d = {-1.000000:[],1.000000:[]}"
      ],
      "execution_count": null,
      "outputs": []
    },
    {
      "cell_type": "code",
      "metadata": {
        "id": "4g3b1pEOTp3f"
      },
      "source": [
        "for i in range(350):\n",
        "  l = [df.iloc[i][0],df.iloc[1][1]]\n",
        "  d[df.iloc[i][2]].append(l)"
      ],
      "execution_count": null,
      "outputs": []
    },
    {
      "cell_type": "code",
      "metadata": {
        "id": "VnsEu-pMTp7E"
      },
      "source": [
        "data2 = {}"
      ],
      "execution_count": null,
      "outputs": []
    },
    {
      "cell_type": "code",
      "metadata": {
        "id": "GNbz9GzKTp2H"
      },
      "source": [
        "data2[-1.0]=np.array(d[-1.0])\n",
        "data2[1.0]=np.array(d[1.0])"
      ],
      "execution_count": null,
      "outputs": []
    },
    {
      "cell_type": "code",
      "metadata": {
        "id": "KbkHRzloTpwV",
        "outputId": "b1a5d34a-3e4c-411d-e4ae-6713f160a71f",
        "colab": {
          "base_uri": "https://localhost:8080/",
          "height": 1000
        }
      },
      "source": [
        "data2"
      ],
      "execution_count": null,
      "outputs": [
        {
          "output_type": "execute_result",
          "data": {
            "text/plain": [
              "{-1.0: array([[8.40116942, 7.91302285],\n",
              "        [6.25113397, 7.91302285],\n",
              "        [8.26864113, 7.91302285],\n",
              "        [7.7914091 , 7.91302285],\n",
              "        [5.59151257, 7.91302285],\n",
              "        [8.250217  , 7.91302285],\n",
              "        [8.72897066, 7.91302285],\n",
              "        [7.22309596, 7.91302285],\n",
              "        [8.41904079, 7.91302285],\n",
              "        [5.9597379 , 7.91302285],\n",
              "        [8.15924215, 7.91302285],\n",
              "        [8.74007663, 7.91302285],\n",
              "        [8.41447651, 7.91302285],\n",
              "        [6.40790406, 7.91302285],\n",
              "        [6.89074985, 7.91302285],\n",
              "        [7.17688424, 7.91302285],\n",
              "        [8.97866274, 7.91302285],\n",
              "        [7.6156746 , 7.91302285],\n",
              "        [8.80718026, 7.91302285],\n",
              "        [7.21654775, 7.91302285],\n",
              "        [7.03281296, 7.91302285],\n",
              "        [8.2042945 , 7.91302285],\n",
              "        [8.10423299, 7.91302285],\n",
              "        [7.05016424, 7.91302285],\n",
              "        [5.68550018, 7.91302285],\n",
              "        [5.80737645, 7.91302285],\n",
              "        [8.29295085, 7.91302285],\n",
              "        [7.79453831, 7.91302285],\n",
              "        [5.61317444, 7.91302285],\n",
              "        [7.02863175, 7.91302285],\n",
              "        [7.50289161, 7.91302285],\n",
              "        [7.47773506, 7.91302285],\n",
              "        [8.38335799, 7.91302285],\n",
              "        [5.9413459 , 7.91302285],\n",
              "        [6.55040872, 7.91302285],\n",
              "        [5.50742709, 7.91302285],\n",
              "        [8.82887575, 7.91302285],\n",
              "        [8.18204777, 7.91302285],\n",
              "        [8.12956457, 7.91302285],\n",
              "        [5.98602693, 7.91302285],\n",
              "        [6.7226184 , 7.91302285],\n",
              "        [6.02969196, 7.91302285],\n",
              "        [7.23852237, 7.91302285],\n",
              "        [8.33028289, 7.91302285],\n",
              "        [7.71504078, 7.91302285],\n",
              "        [7.90940524, 7.91302285],\n",
              "        [7.73849576, 7.91302285],\n",
              "        [8.05262604, 7.91302285],\n",
              "        [8.50945998, 7.91302285],\n",
              "        [7.69434383, 7.91302285],\n",
              "        [6.13206981, 7.91302285],\n",
              "        [7.50657291, 7.91302285],\n",
              "        [6.07248155, 7.91302285],\n",
              "        [8.67118107, 7.91302285],\n",
              "        [5.77069975, 7.91302285],\n",
              "        [6.68487128, 7.91302285],\n",
              "        [7.53216142, 7.91302285],\n",
              "        [7.16332305, 7.91302285],\n",
              "        [8.3186217 , 7.91302285],\n",
              "        [7.35772349, 7.91302285],\n",
              "        [6.29558616, 7.91302285],\n",
              "        [7.98319741, 7.91302285],\n",
              "        [6.02021394, 7.91302285],\n",
              "        [7.80340663, 7.91302285],\n",
              "        [7.71893892, 7.91302285],\n",
              "        [6.30257188, 7.91302285],\n",
              "        [6.13779805, 7.91302285],\n",
              "        [6.08223378, 7.91302285],\n",
              "        [6.02362482, 7.91302285],\n",
              "        [6.20961589, 7.91302285],\n",
              "        [8.84235616, 7.91302285],\n",
              "        [5.55567919, 7.91302285],\n",
              "        [8.85130023, 7.91302285],\n",
              "        [5.589923  , 7.91302285],\n",
              "        [8.89888732, 7.91302285],\n",
              "        [6.54158487, 7.91302285],\n",
              "        [7.33775578, 7.91302285],\n",
              "        [8.51818724, 7.91302285],\n",
              "        [8.63741716, 7.91302285],\n",
              "        [6.16153694, 7.91302285],\n",
              "        [7.81251845, 7.91302285],\n",
              "        [8.79430828, 7.91302285],\n",
              "        [8.91497494, 7.91302285],\n",
              "        [5.87777339, 7.91302285],\n",
              "        [6.1261473 , 7.91302285],\n",
              "        [8.11292999, 7.91302285],\n",
              "        [5.67313983, 7.91302285],\n",
              "        [5.74949709, 7.91302285],\n",
              "        [7.21193932, 7.91302285],\n",
              "        [8.47462837, 7.91302285],\n",
              "        [8.98964505, 7.91302285],\n",
              "        [5.51537414, 7.91302285],\n",
              "        [7.39912612, 7.91302285],\n",
              "        [8.51471862, 7.91302285],\n",
              "        [8.68198659, 7.91302285],\n",
              "        [8.45872697, 7.91302285],\n",
              "        [8.5760551 , 7.91302285],\n",
              "        [8.11163783, 7.91302285],\n",
              "        [5.91121283, 7.91302285],\n",
              "        [7.2815779 , 7.91302285],\n",
              "        [6.09091117, 7.91302285],\n",
              "        [8.40889026, 7.91302285],\n",
              "        [8.748038  , 7.91302285],\n",
              "        [6.0931955 , 7.91302285],\n",
              "        [8.59308062, 7.91302285],\n",
              "        [6.85752013, 7.91302285],\n",
              "        [6.83899311, 7.91302285],\n",
              "        [6.45008523, 7.91302285],\n",
              "        [8.537591  , 7.91302285],\n",
              "        [8.0952586 , 7.91302285],\n",
              "        [7.06755456, 7.91302285],\n",
              "        [7.983736  , 7.91302285],\n",
              "        [8.80515949, 7.91302285],\n",
              "        [6.10941256, 7.91302285],\n",
              "        [6.35608699, 7.91302285],\n",
              "        [7.74325194, 7.91302285],\n",
              "        [8.33014378, 7.91302285],\n",
              "        [8.48679852, 7.91302285],\n",
              "        [6.89341176, 7.91302285],\n",
              "        [5.90422833, 7.91302285],\n",
              "        [5.78098333, 7.91302285],\n",
              "        [6.76163667, 7.91302285],\n",
              "        [6.24557619, 7.91302285],\n",
              "        [7.32810174, 7.91302285],\n",
              "        [7.4497339 , 7.91302285],\n",
              "        [8.01930544, 7.91302285],\n",
              "        [5.88642817, 7.91302285],\n",
              "        [6.25826582, 7.91302285],\n",
              "        [8.33857075, 7.91302285],\n",
              "        [5.98531659, 7.91302285],\n",
              "        [8.5866472 , 7.91302285],\n",
              "        [8.73244622, 7.91302285],\n",
              "        [5.54464447, 7.91302285],\n",
              "        [6.82005739, 7.91302285],\n",
              "        [6.08734091, 7.91302285],\n",
              "        [7.39077979, 7.91302285],\n",
              "        [5.85581852, 7.91302285],\n",
              "        [5.63743711, 7.91302285],\n",
              "        [8.76630189, 7.91302285],\n",
              "        [8.90057159, 7.91302285],\n",
              "        [6.76324807, 7.91302285],\n",
              "        [7.75471891, 7.91302285],\n",
              "        [5.73781556, 7.91302285],\n",
              "        [6.22769199, 7.91302285],\n",
              "        [5.63861346, 7.91302285],\n",
              "        [7.1427576 , 7.91302285],\n",
              "        [6.02533853, 7.91302285],\n",
              "        [8.96957422, 7.91302285],\n",
              "        [6.99471822, 7.91302285],\n",
              "        [8.84380236, 7.91302285]]),\n",
              " 1.0: array([[3.73834988e+00, 7.91302285e+00],\n",
              "        [1.60121779e+00, 7.91302285e+00],\n",
              "        [2.46467159e+00, 7.91302285e+00],\n",
              "        [1.10826377e+00, 7.91302285e+00],\n",
              "        [4.69636871e+00, 7.91302285e+00],\n",
              "        [2.41152645e+00, 7.91302285e+00],\n",
              "        [2.69998043e+00, 7.91302285e+00],\n",
              "        [1.10528550e+00, 7.91302285e+00],\n",
              "        [2.44991836e+00, 7.91302285e+00],\n",
              "        [2.91752235e+00, 7.91302285e+00],\n",
              "        [4.16348738e-01, 7.91302285e+00],\n",
              "        [3.30077315e+00, 7.91302285e+00],\n",
              "        [2.61526104e-01, 7.91302285e+00],\n",
              "        [2.78415267e+00, 7.91302285e+00],\n",
              "        [3.56012625e+00, 7.91302285e+00],\n",
              "        [2.43955313e+00, 7.91302285e+00],\n",
              "        [3.08800323e+00, 7.91302285e+00],\n",
              "        [1.06888787e+00, 7.91302285e+00],\n",
              "        [3.22829331e+00, 7.91302285e+00],\n",
              "        [1.90321146e+00, 7.91302285e+00],\n",
              "        [5.18564201e-01, 7.91302285e+00],\n",
              "        [1.88755759e+00, 7.91302285e+00],\n",
              "        [1.31430404e+00, 7.91302285e+00],\n",
              "        [1.20642806e+00, 7.91302285e+00],\n",
              "        [3.11462025e+00, 7.91302285e+00],\n",
              "        [2.61463881e+00, 7.91302285e+00],\n",
              "        [2.06618873e+00, 7.91302285e+00],\n",
              "        [1.08896018e+00, 7.91302285e+00],\n",
              "        [4.29276809e+00, 7.91302285e+00],\n",
              "        [4.30504127e+00, 7.91302285e+00],\n",
              "        [1.41969506e+00, 7.91302285e+00],\n",
              "        [3.07696424e+00, 7.91302285e+00],\n",
              "        [3.89744751e+00, 7.91302285e+00],\n",
              "        [4.77423656e+00, 7.91302285e+00],\n",
              "        [4.59801623e+00, 7.91302285e+00],\n",
              "        [1.92407852e+00, 7.91302285e+00],\n",
              "        [8.13215082e-01, 7.91302285e+00],\n",
              "        [3.98375710e+00, 7.91302285e+00],\n",
              "        [5.69085898e-01, 7.91302285e+00],\n",
              "        [7.94121493e-01, 7.91302285e+00],\n",
              "        [1.77914058e+00, 7.91302285e+00],\n",
              "        [4.23879282e+00, 7.91302285e+00],\n",
              "        [2.91390598e+00, 7.91302285e+00],\n",
              "        [2.93088833e+00, 7.91302285e+00],\n",
              "        [4.62918994e+00, 7.91302285e+00],\n",
              "        [2.87539134e+00, 7.91302285e+00],\n",
              "        [4.98869748e-02, 7.91302285e+00],\n",
              "        [4.04688643e+00, 7.91302285e+00],\n",
              "        [3.04404180e+00, 7.91302285e+00],\n",
              "        [2.39956840e+00, 7.91302285e+00],\n",
              "        [1.34220079e+00, 7.91302285e+00],\n",
              "        [1.29048192e+00, 7.91302285e+00],\n",
              "        [2.40504768e+00, 7.91302285e+00],\n",
              "        [1.13670742e+00, 7.91302285e+00],\n",
              "        [2.43011491e-01, 7.91302285e+00],\n",
              "        [8.46209073e-01, 7.91302285e+00],\n",
              "        [1.29223154e+00, 7.91302285e+00],\n",
              "        [9.89550288e-01, 7.91302285e+00],\n",
              "        [3.02846532e+00, 7.91302285e+00],\n",
              "        [4.11851823e+00, 7.91302285e+00],\n",
              "        [4.05307481e+00, 7.91302285e+00],\n",
              "        [4.01118508e+00, 7.91302285e+00],\n",
              "        [3.54056688e+00, 7.91302285e+00],\n",
              "        [4.29688927e+00, 7.91302285e+00],\n",
              "        [3.90542259e+00, 7.91302285e+00],\n",
              "        [1.01898426e+00, 7.91302285e+00],\n",
              "        [4.96671625e+00, 7.91302285e+00],\n",
              "        [4.68122641e-01, 7.91302285e+00],\n",
              "        [3.25309272e+00, 7.91302285e+00],\n",
              "        [1.07588263e+00, 7.91302285e+00],\n",
              "        [1.21936551e+00, 7.91302285e+00],\n",
              "        [1.69843903e+00, 7.91302285e+00],\n",
              "        [9.89311703e-01, 7.91302285e+00],\n",
              "        [2.53416688e+00, 7.91302285e+00],\n",
              "        [4.75378991e+00, 7.91302285e+00],\n",
              "        [1.97303609e+00, 7.91302285e+00],\n",
              "        [2.92232420e+00, 7.91302285e+00],\n",
              "        [3.03268623e+00, 7.91302285e+00],\n",
              "        [3.57321434e+00, 7.91302285e+00],\n",
              "        [2.00768177e+00, 7.91302285e+00],\n",
              "        [4.29345511e+00, 7.91302285e+00],\n",
              "        [4.60242491e+00, 7.91302285e+00],\n",
              "        [3.75419445e+00, 7.91302285e+00],\n",
              "        [1.42795853e+00, 7.91302285e+00],\n",
              "        [3.98407894e+00, 7.91302285e+00],\n",
              "        [7.13829151e-01, 7.91302285e+00],\n",
              "        [2.52275095e+00, 7.91302285e+00],\n",
              "        [3.05343976e+00, 7.91302285e+00],\n",
              "        [3.51898368e+00, 7.91302285e+00],\n",
              "        [1.91669966e+00, 7.91302285e+00],\n",
              "        [3.64341718e+00, 7.91302285e+00],\n",
              "        [4.43642340e+00, 7.91302285e+00],\n",
              "        [2.79241606e-01, 7.91302285e+00],\n",
              "        [6.91081713e-01, 7.91302285e+00],\n",
              "        [4.31532489e+00, 7.91302285e+00],\n",
              "        [2.10873241e+00, 7.91302285e+00],\n",
              "        [2.05657087e+00, 7.91302285e+00],\n",
              "        [4.79570670e+00, 7.91302285e+00],\n",
              "        [3.75122646e+00, 7.91302285e+00],\n",
              "        [4.90498557e+00, 7.91302285e+00],\n",
              "        [1.16757903e+00, 7.91302285e+00],\n",
              "        [4.81133806e-01, 7.91302285e+00],\n",
              "        [1.92291100e+00, 7.91302285e+00],\n",
              "        [2.50136275e+00, 7.91302285e+00],\n",
              "        [2.85127934e+00, 7.91302285e+00],\n",
              "        [4.88315798e+00, 7.91302285e+00],\n",
              "        [2.46427591e+00, 7.91302285e+00],\n",
              "        [2.00441433e+00, 7.91302285e+00],\n",
              "        [4.97495131e+00, 7.91302285e+00],\n",
              "        [1.30499004e+00, 7.91302285e+00],\n",
              "        [3.32662355e+00, 7.91302285e+00],\n",
              "        [4.82128308e+00, 7.91302285e+00],\n",
              "        [3.35575518e+00, 7.91302285e+00],\n",
              "        [1.49587428e+00, 7.91302285e+00],\n",
              "        [2.65563263e+00, 7.91302285e+00],\n",
              "        [7.31587586e-03, 7.91302285e+00],\n",
              "        [4.41894405e+00, 7.91302285e+00],\n",
              "        [2.02191929e+00, 7.91302285e+00],\n",
              "        [1.50602793e+00, 7.91302285e+00],\n",
              "        [4.75290796e+00, 7.91302285e+00],\n",
              "        [2.30324097e+00, 7.91302285e+00],\n",
              "        [1.43823756e+00, 7.91302285e+00],\n",
              "        [4.23133193e-01, 7.91302285e+00],\n",
              "        [2.91090668e+00, 7.91302285e+00],\n",
              "        [7.65343487e-01, 7.91302285e+00],\n",
              "        [3.65471531e-01, 7.91302285e+00],\n",
              "        [2.90282388e+00, 7.91302285e+00],\n",
              "        [1.43507376e+00, 7.91302285e+00],\n",
              "        [1.80960042e+00, 7.91302285e+00],\n",
              "        [3.62412347e+00, 7.91302285e+00],\n",
              "        [4.29155839e+00, 7.91302285e+00],\n",
              "        [1.73957843e+00, 7.91302285e+00],\n",
              "        [4.80872803e+00, 7.91302285e+00],\n",
              "        [4.76784526e+00, 7.91302285e+00],\n",
              "        [1.03018688e+00, 7.91302285e+00],\n",
              "        [3.84122430e+00, 7.91302285e+00],\n",
              "        [3.07765940e+00, 7.91302285e+00],\n",
              "        [4.59461244e+00, 7.91302285e+00],\n",
              "        [3.01268631e+00, 7.91302285e+00],\n",
              "        [3.51069114e+00, 7.91302285e+00],\n",
              "        [3.71837478e+00, 7.91302285e+00],\n",
              "        [1.92551138e+00, 7.91302285e+00],\n",
              "        [1.25751895e+00, 7.91302285e+00],\n",
              "        [1.83798687e-01, 7.91302285e+00],\n",
              "        [2.36061437e+00, 7.91302285e+00],\n",
              "        [3.22536164e+00, 7.91302285e+00],\n",
              "        [1.39484970e+00, 7.91302285e+00],\n",
              "        [2.58930455e+00, 7.91302285e+00],\n",
              "        [1.22833319e+00, 7.91302285e+00],\n",
              "        [1.48754087e+00, 7.91302285e+00],\n",
              "        [3.25237047e+00, 7.91302285e+00],\n",
              "        [4.45696653e+00, 7.91302285e+00],\n",
              "        [4.30553233e+00, 7.91302285e+00],\n",
              "        [1.04957538e+00, 7.91302285e+00],\n",
              "        [1.99546956e+00, 7.91302285e+00],\n",
              "        [4.43941512e+00, 7.91302285e+00],\n",
              "        [1.28264006e+00, 7.91302285e+00],\n",
              "        [4.83400802e+00, 7.91302285e+00],\n",
              "        [3.09578676e+00, 7.91302285e+00],\n",
              "        [8.26728833e-01, 7.91302285e+00],\n",
              "        [4.13099514e+00, 7.91302285e+00],\n",
              "        [3.27846551e+00, 7.91302285e+00],\n",
              "        [2.73226292e+00, 7.91302285e+00],\n",
              "        [1.25664642e+00, 7.91302285e+00],\n",
              "        [2.00781923e-01, 7.91302285e+00],\n",
              "        [1.16687706e+00, 7.91302285e+00],\n",
              "        [1.80556468e+00, 7.91302285e+00],\n",
              "        [3.16727518e+00, 7.91302285e+00],\n",
              "        [4.93049048e+00, 7.91302285e+00],\n",
              "        [1.03578323e+00, 7.91302285e+00],\n",
              "        [3.78541971e+00, 7.91302285e+00],\n",
              "        [4.43164055e+00, 7.91302285e+00],\n",
              "        [2.36114930e+00, 7.91302285e+00],\n",
              "        [7.94567630e-01, 7.91302285e+00],\n",
              "        [4.05460393e+00, 7.91302285e+00],\n",
              "        [2.38253876e+00, 7.91302285e+00],\n",
              "        [5.81437661e-01, 7.91302285e+00],\n",
              "        [4.37860306e+00, 7.91302285e+00],\n",
              "        [3.17593190e+00, 7.91302285e+00],\n",
              "        [4.86406745e-01, 7.91302285e+00],\n",
              "        [4.54219728e+00, 7.91302285e+00],\n",
              "        [1.75080108e-01, 7.91302285e+00],\n",
              "        [1.98748471e-01, 7.91302285e+00],\n",
              "        [4.94283946e+00, 7.91302285e+00],\n",
              "        [3.43090799e+00, 7.91302285e+00],\n",
              "        [1.88344596e+00, 7.91302285e+00],\n",
              "        [2.52162126e+00, 7.91302285e+00],\n",
              "        [3.81747840e+00, 7.91302285e+00],\n",
              "        [2.44373984e-01, 7.91302285e+00],\n",
              "        [4.79725009e-01, 7.91302285e+00],\n",
              "        [3.00827082e-01, 7.91302285e+00],\n",
              "        [4.09754437e+00, 7.91302285e+00],\n",
              "        [3.85739152e+00, 7.91302285e+00],\n",
              "        [9.78478655e-01, 7.91302285e+00],\n",
              "        [4.47559077e+00, 7.91302285e+00],\n",
              "        [3.42150073e+00, 7.91302285e+00],\n",
              "        [3.28423241e+00, 7.91302285e+00],\n",
              "        [4.95190601e+00, 7.91302285e+00],\n",
              "        [1.68458966e-01, 7.91302285e+00],\n",
              "        [2.12126635e+00, 7.91302285e+00]])}"
            ]
          },
          "metadata": {
            "tags": []
          },
          "execution_count": 16
        }
      ]
    },
    {
      "cell_type": "code",
      "metadata": {
        "id": "5BE_70JVTpuh",
        "outputId": "f3dae1ae-cc7e-4fc8-92d8-e71c3254e953",
        "colab": {
          "base_uri": "https://localhost:8080/",
          "height": 315
        }
      },
      "source": [
        "svm2 = SVM()\n",
        "svm2.fit(data2)\n",
        "svm2.visualize()"
      ],
      "execution_count": null,
      "outputs": [
        {
          "output_type": "stream",
          "text": [
            "optimized a step\n",
            "optimized a step\n",
            "optimized a step\n"
          ],
          "name": "stdout"
        },
        {
          "output_type": "display_data",
          "data": {
            "image/png": "[encoded data removed]",
            "text/plain": [
              "<Figure size 432x288 with 1 Axes>"
            ]
          },
          "metadata": {
            "tags": [],
            "needs_background": "light"
          }
        }
      ]
    },
    {
      "cell_type": "code",
      "metadata": {
        "id": "e4CrodhVT6ut",
        "outputId": "836fb463-16f9-41d1-bbe7-1fcadfc59936",
        "colab": {
          "base_uri": "https://localhost:8080/",
          "height": 34
        }
      },
      "source": [
        "data2[-1][5]"
      ],
      "execution_count": null,
      "outputs": [
        {
          "output_type": "execute_result",
          "data": {
            "text/plain": [
              "array([8.250217  , 7.91302285])"
            ]
          },
          "metadata": {
            "tags": []
          },
          "execution_count": 18
        }
      ]
    },
    {
      "cell_type": "code",
      "metadata": {
        "id": "QdOUO5rPT8-h",
        "outputId": "41e5f20a-9af7-45e3-903d-0f258f369e15",
        "colab": {
          "base_uri": "https://localhost:8080/",
          "height": 34
        }
      },
      "source": [
        "svm2.predict(data2[1][56])"
      ],
      "execution_count": null,
      "outputs": [
        {
          "output_type": "execute_result",
          "data": {
            "text/plain": [
              "(1.0, 24.74074460210661)"
            ]
          },
          "metadata": {
            "tags": []
          },
          "execution_count": 19
        }
      ]
    }
  ]
}